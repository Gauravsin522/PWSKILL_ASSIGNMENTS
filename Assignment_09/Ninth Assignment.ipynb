{
 "cells": [
  {
   "cell_type": "markdown",
   "metadata": {},
   "source": [
    "# Files & Exceptional Handling\n",
    "## Assignment questions\n"
   ]
  },
  {
   "cell_type": "markdown",
   "metadata": {},
   "source": [
    "### 1. Discuss the scenarios where multithreading is preferable to multiprocessing and scenarios where multiprocessing is a better choice.  \n",
    "\n",
    "Answer:-\n",
    "Multithreading vs. Multiprocessing:\n",
    "Multithreading is preferable when tasks are I/O-bound (e.g., file reading, network requests), where waiting for external resources dominates execution time. Threads share memory, allowing faster context switching and communication between them.\n",
    "\n",
    "Multiprocessing is better suited for CPU-bound tasks (e.g., complex calculations, heavy data processing), where multiple processes can fully utilize multiple CPU cores. It isolates memory, which prevents data corruption but involves more overhead in communication and memory usage."
   ]
  },
  {
   "cell_type": "markdown",
   "metadata": {},
   "source": [
    "### 2. Describe what a process pool is and how it helps in managing multiple processes efficiently.  \n",
    "\n",
    "Answer:- process pool is a mechanism that manages a collection of worker processes for efficiently handling multiple tasks in parallel. It provides a pool of reusable processes, which can execute tasks concurrently and avoid the overhead of creating and destroying processes repeatedly. By reusing the same processes, a pool reduces resource consumption and improves performance for CPU-bound tasks. It also simplifies the distribution of work across multiple cores, automatically assigning tasks to available workers, making it ideal for parallelizing tasks in multiprocessing environments.\n"
   ]
  },
  {
   "cell_type": "markdown",
   "metadata": {},
   "source": [
    "### 3. Explain what multiprocessing is and why it is used in Python programs.  \n",
    "Answer:-Multiprocessing refers to the ability to system run multiple process simantanouly.Each of the process has own space in  memory and its\n",
    "run independently of other.\n",
    "And it is used to bypassing Global Inderpreter lock (GIL).has a Global Interpreter Lock (GIL) that prevents multiple native threads from executing."
   ]
  },
  {
   "cell_type": "code",
   "execution_count": 1,
   "metadata": {},
   "outputs": [
    {
     "name": "stdout",
     "output_type": "stream",
     "text": [
      "add1,List:[1]\n",
      "remove1,list[]\n",
      "add2,List:[2]\n",
      "remove3,list[]\n",
      "add3,List:[3]\n",
      "add4,List:[3, 4]\n",
      "remove4,list[4]\n",
      "remove5,list[]\n",
      "add5,List:[5]\n",
      "remove6,list[]\n",
      "add6,List:[6]\n",
      "remove7,list[]\n",
      "add7,List:[7]\n",
      "remove8,list[]\n",
      "add8,List:[8]\n",
      "remove9,list[]\n",
      "add9,List:[9]\n",
      "remove10,list[]\n",
      "add10,List:[10]\n",
      "final list: [10]\n"
     ]
    }
   ],
   "source": [
    "#4. Write a Python program using multithreading where one thread adds numbers to a list, and another thread removes numbers from the list. Implement a mechanism to avoid race conditions using threading.Lock. \n",
    "\n",
    "# ANSWER:-\n",
    "\n",
    "import threading\n",
    "import time\n",
    "\n",
    "num=[]\n",
    "\n",
    "# Lock object to prevent race conditions\n",
    "lock=threading.Lock()\n",
    "\n",
    "def add_num():\n",
    "    for  i in range(1,11):\n",
    "        time.sleep(0.1)\n",
    "        lock.acquire()\n",
    "        try:\n",
    "            num.append(i)\n",
    "            print(f\"add{i},List:{num}\")\n",
    "        finally:\n",
    "            lock.release()\n",
    "            \n",
    "#remove num\n",
    "def remove_num():\n",
    "    for i in range(1,11):\n",
    "        time.sleep(0.1)\n",
    "        lock.acquire()\n",
    "        try:\n",
    "            if num:\n",
    "                remove_num=num.pop(0)\n",
    "                print(f\"remove{i},list{num}\")\n",
    "        finally:\n",
    "            lock.release()\n",
    "\n",
    "#creating threads\n",
    "thread1=threading.Thread(target=add_num)\n",
    "thread2=threading.Thread(target=remove_num)\n",
    "\n",
    "#start threads\n",
    "thread1.start()\n",
    "thread2.start()\n",
    "\n",
    "#COMPLETE THE CODE\n",
    "thread1.join()\n",
    "thread2.join()\n",
    "\n",
    "print(f\"final list:\",num)            \n",
    "            "
   ]
  },
  {
   "cell_type": "code",
   "execution_count": null,
   "metadata": {},
   "outputs": [],
   "source": [
    "#5. Describe the methods and tools available in Python for safely sharing data between threads and processes.  \n",
    "\"\"\"\n",
    "In Python, safely sharing data between threads and processes is crucial to avoid issues like race conditions and ensure data integrity.\n",
    "Here are some methods and tools available for this purpose:\n",
    "\n",
    "Sharing Data Between Threads\n",
    "Threading Locks (threading.Lock):\n",
    "Purpose: Prevents multiple threads from accessing shared data simultaneously.\n",
    "Usage: Wrap the critical section of code with lock.acquire() and lock.release().\n",
    "\"\"\"\n",
    "# Example:=\n",
    "#4. Write a Python program using multithreading where one thread adds numbers to a list, and another thread removes numbers from the list. Implement a mechanism to avoid race conditions using threading.Lock. \n",
    "\n",
    "# ANSWER:-\n",
    "\n",
    "import threading\n",
    "import time\n",
    "\n",
    "num=[]\n",
    "\n",
    "# Lock object to prevent race conditions\n",
    "lock=threading.Lock()\n",
    "\n",
    "def add_num():\n",
    "    for  i in range(1,11):\n",
    "        time.sleep(0.1)\n",
    "        lock.acquire()\n",
    "        try:\n",
    "            num.append(i)\n",
    "            print(f\"add{i},List:{num}\")\n",
    "        finally:\n",
    "            lock.release()\n",
    "            \n",
    "#remove num\n",
    "def remove_num():\n",
    "    for i in range(1,11):\n",
    "        time.sleep(0.1)\n",
    "        lock.acquire()\n",
    "        try:\n",
    "            if num:\n",
    "                remove_num=num.pop(0)\n",
    "                print(f\"remove{i},list{num}\")\n",
    "        finally:\n",
    "            lock.release()\n",
    "\n",
    "#creating threads\n",
    "thread1=threading.Thread(target=add_num)\n",
    "thread2=threading.Thread(target=remove_num)\n",
    "\n",
    "#start threads\n",
    "thread1.start()\n",
    "thread2.start()\n",
    "\n",
    "#COMPLETE THE CODE\n",
    "thread1.join()\n",
    "thread2.join()\n",
    "\n",
    "print(f\"final list:\",num)            "
   ]
  },
  {
   "cell_type": "code",
   "execution_count": 2,
   "metadata": {},
   "outputs": [
    {
     "name": "stdout",
     "output_type": "stream",
     "text": [
      "Produced 0\n",
      "Produced 1\n",
      "Produced 2\n",
      "Produced 3\n",
      "Produced 4\n",
      "Consumed 0\n",
      "Consumed 1\n",
      "Consumed 2\n",
      "Consumed 3\n",
      "Consumed 4\n"
     ]
    }
   ],
   "source": [
    "# second method is queue.Queue\n",
    "from queue import Queue\n",
    "from threading import Thread\n",
    "\n",
    "def producer(out_q):\n",
    "    for i in range(5):\n",
    "        out_q.put(i)\n",
    "        print(f\"Produced {i}\")\n",
    "\n",
    "def consumer(in_q):\n",
    "    while True:\n",
    "        data = in_q.get()\n",
    "        if data is None:\n",
    "            break\n",
    "        print(f\"Consumed {data}\")\n",
    "\n",
    "q = Queue()\n",
    "t1 = Thread(target=producer, args=(q,))\n",
    "t2 = Thread(target=consumer, args=(q,))\n",
    "\n",
    "t1.start()\n",
    "t2.start()\n",
    "\n",
    "t1.join()\n",
    "q.put(None) \n",
    "t2.join()\n",
    "\n"
   ]
  },
  {
   "cell_type": "code",
   "execution_count": 3,
   "metadata": {},
   "outputs": [
    {
     "name": "stdout",
     "output_type": "stream",
     "text": [
      "Waiting for event to be set...Setting the event...\n",
      "\n",
      "Event is set!\n"
     ]
    }
   ],
   "source": [
    "#third\n",
    "import threading\n",
    "\n",
    "event = threading.Event()\n",
    "\n",
    "def wait_for_event():\n",
    "    print(\"Waiting for event to be set...\")\n",
    "    event.wait()\n",
    "    print(\"Event is set!\")\n",
    "\n",
    "t = threading.Thread(target=wait_for_event)\n",
    "t.start()\n",
    "\n",
    "print(\"Setting the event...\")\n",
    "event.set()\n",
    "t.join()\n"
   ]
  },
  {
   "cell_type": "code",
   "execution_count": 4,
   "metadata": {},
   "outputs": [],
   "source": [
    "# processing used process and queue\n",
    "from multiprocessing import Process, Queue\n",
    "\n",
    "def producer(out_q):\n",
    "    for i in range(5):\n",
    "        out_q.put(i)\n",
    "        print(f\"Produced {i}\")\n",
    "\n",
    "def consumer(in_q):\n",
    "    while True:\n",
    "        data = in_q.get()\n",
    "        if data is None:\n",
    "            break\n",
    "        print(f\"Consumed {data}\")\n",
    "\n",
    "q = Queue()\n",
    "p1 = Process(target=producer, args=(q,))\n",
    "p2 = Process(target=consumer, args=(q,))\n",
    "\n",
    "p1.start()\n",
    "p2.start()\n",
    "\n",
    "p1.join()\n",
    "q.put(None)  # Sentinel to stop the consumer\n",
    "p2.join()\n"
   ]
  },
  {
   "cell_type": "code",
   "execution_count": 5,
   "metadata": {},
   "outputs": [
    {
     "name": "stdout",
     "output_type": "stream",
     "text": [
      "0.0\n",
      "[0, 1, 2, 3, 4, 5, 6, 7, 8, 9]\n"
     ]
    }
   ],
   "source": [
    "# second shared memory\n",
    "from multiprocessing import Process, Value, Array\n",
    "\n",
    "def modify_shared_data(val, arr):\n",
    "    val.value = 3.14159\n",
    "    for i in range(len(arr)):\n",
    "        arr[i] = -arr[i]\n",
    "\n",
    "shared_value = Value('d', 0.0)\n",
    "shared_array = Array('i', range(10))\n",
    "\n",
    "p = Process(target=modify_shared_data, args=(shared_value, shared_array))\n",
    "p.start()\n",
    "p.join()\n",
    "\n",
    "print(shared_value.value)\n",
    "print(shared_array[:])\n"
   ]
  },
  {
   "cell_type": "code",
   "execution_count": 6,
   "metadata": {},
   "outputs": [
    {
     "name": "stdout",
     "output_type": "stream",
     "text": [
      "[]\n"
     ]
    }
   ],
   "source": [
    "#third using m,anager\n",
    "from multiprocessing import Process, Manager\n",
    "\n",
    "def modify_shared_list(shared_list):\n",
    "    shared_list.append(\"Hello from process\")\n",
    "\n",
    "with Manager() as manager:\n",
    "    shared_list = manager.list()\n",
    "    p = Process(target=modify_shared_list, args=(shared_list,))\n",
    "    p.start()\n",
    "    p.join()\n",
    "\n",
    "    print(shared_list)\n"
   ]
  },
  {
   "cell_type": "code",
   "execution_count": 1,
   "metadata": {},
   "outputs": [
    {
     "data": {
      "text/plain": [
       "'\\nHandling exceptions in concurrent programs is crucial for several reasons:\\n\\nMaintaining Program Stability: Unhandled exceptions can cause threads to terminate unexpectedly, \\nleading to incomplete tasks and potentially leaving shared resources in an inconsistent state.\\n\\nResource Management: Proper exception handling ensures that resources such as memory, file handles, and network connections are released appropriately,\\npreventing resource leaks.\\n\\nData Integrity: Concurrent programs often involve shared data. Unhandled exceptions can lead to data corruption if the program does not properly manage access to\\nshared resources.\\n\\nUser Experience: For applications with user interfaces, unhandled exceptions can result in poor user experiences, such as application crashes or unresponsive behavior.\\n\\nDebugging and Maintenance: Properly handled exceptions provide useful information for debugging and maintaining the code, making it easier to identify and fix issues.\\n\\n\\nTechniques for Handling Exceptions in Concurrent Programs\\n\\n Try-Catch Blocks: The most basic method is to use try-catch blocks around code that might throw exceptions. This ensures that exceptions are caught \\n and handled appropriately within each thread.\\n \\n\\nThread-Specific Exception Handling: Different threads may require different exception handling strategies.\\nUsing thread-specific handlers can ensure that each thread deals with exceptions in a way that is appropriate for its context1.\\n\\nThread Pools: Using thread pools can help manage exceptions more efficiently. When a thread in the pool encounters an exception, the pool can handle it and potentially restart the thread or log the error1.\\n\\nUncaught Exception Handlers: Many programming languages provide mechanisms to set a default handler for uncaught exceptions in threads. For example, Java allows setting\\nan UncaughtExceptionHandler for threads, which can log the exception or take corrective action.\\n\\nFuture and CompletableFuture: In languages like Java, usig Future or CompletableFuture allows handling exceptions  that occur in asynchronous tasks. These constructs \\nprovide methods to check for exceptions and handle them once the  task is complete2.\\n\\nAtomic Operations and Locks: Ensuring that operations on shared resources are atomic and using locks can prevent data corruption and ensure that exceptions do not leave shared resources in an inconsistent state3.\\n\\nException Propagation: In some cases, it might be necessary to propagate exceptions from worker threads to the main thread. This can be done using shared data structures \\nor by re-throwing exceptions in the main thread after worker threads have completed\\n\\n '"
      ]
     },
     "execution_count": 1,
     "metadata": {},
     "output_type": "execute_result"
    }
   ],
   "source": [
    "# 6. Discuss why it’s crucial to handle exceptions in concurrent programs and the techniques available for doing so.  \n",
    "\n",
    "# answer:-\n",
    "'''\n",
    "Handling exceptions in concurrent programs is crucial for several reasons:\n",
    "\n",
    "Maintaining Program Stability: Unhandled exceptions can cause threads to terminate unexpectedly, \n",
    "leading to incomplete tasks and potentially leaving shared resources in an inconsistent state.\n",
    "\n",
    "Resource Management: Proper exception handling ensures that resources such as memory, file handles, and network connections are released appropriately,\n",
    "preventing resource leaks.\n",
    "\n",
    "Data Integrity: Concurrent programs often involve shared data. Unhandled exceptions can lead to data corruption if the program does not properly manage access to\n",
    "shared resources.\n",
    "\n",
    "User Experience: For applications with user interfaces, unhandled exceptions can result in poor user experiences, such as application crashes or unresponsive behavior.\n",
    "\n",
    "Debugging and Maintenance: Properly handled exceptions provide useful information for debugging and maintaining the code, making it easier to identify and fix issues.\n",
    "\n",
    "\n",
    "Techniques for Handling Exceptions in Concurrent Programs\n",
    "\n",
    " Try-Catch Blocks: The most basic method is to use try-catch blocks around code that might throw exceptions. This ensures that exceptions are caught \n",
    " and handled appropriately within each thread.\n",
    " \n",
    "\n",
    "Thread-Specific Exception Handling: Different threads may require different exception handling strategies.\n",
    "Using thread-specific handlers can ensure that each thread deals with exceptions in a way that is appropriate for its context1.\n",
    "\n",
    "Thread Pools: Using thread pools can help manage exceptions more efficiently. When a thread in the pool encounters an exception, the pool can handle it and potentially restart the thread or log the error1.\n",
    "\n",
    "Uncaught Exception Handlers: Many programming languages provide mechanisms to set a default handler for uncaught exceptions in threads. For example, Java allows setting\n",
    "an UncaughtExceptionHandler for threads, which can log the exception or take corrective action.\n",
    "\n",
    "Future and CompletableFuture: In languages like Java, usig Future or CompletableFuture allows handling exceptions  that occur in asynchronous tasks. These constructs \n",
    "provide methods to check for exceptions and handle them once the  task is complete2.\n",
    "\n",
    "Atomic Operations and Locks: Ensuring that operations on shared resources are atomic and using locks can prevent data corruption and ensure that exceptions do not leave shared resources in an inconsistent state3.\n",
    "\n",
    "Exception Propagation: In some cases, it might be necessary to propagate exceptions from worker threads to the main thread. This can be done using shared data structures \n",
    "or by re-throwing exceptions in the main thread after worker threads have completed\n",
    "\n",
    " '''"
   ]
  },
  {
   "cell_type": "code",
   "execution_count": 5,
   "metadata": {},
   "outputs": [
    {
     "name": "stdout",
     "output_type": "stream",
     "text": [
      "Factorial of 1 is 1\n",
      "Factorial of 2 is 2\n",
      "Factorial of 3 is 6\n",
      "Factorial of 4 is 24\n",
      "Factorial of 5 is 120\n",
      "Factorial of 6 is 720\n",
      "Factorial of 7 is 5040\n",
      "Factorial of 8 is 40320\n",
      "Factorial of 9 is 362880\n",
      "Factorial of 10 is 3628800\n"
     ]
    }
   ],
   "source": [
    "# 7. Create a program that uses a thread pool to calculate the factorial of numbers from 1 to 10 concurrently. Use concurrent.futures.ThreadPoolExecutor to manage the threads\n",
    "\n",
    "import concurrent.futures\n",
    "\n",
    "def factorial(n):\n",
    "    if n==0:\n",
    "        return 1\n",
    "    else:\n",
    "        return n * factorial(n-1)\n",
    "    \n",
    "    \n",
    "def main():\n",
    "    numbers = range(1, 11)\n",
    "    with concurrent.futures.ThreadPoolExecutor() as executor:\n",
    "        # Map the factorial function to the numbers\n",
    "        results = list(executor.map(factorial, numbers))\n",
    "    \n",
    "    for number, result in zip(numbers, results):\n",
    "        print(f\"Factorial of {number} is {result}\")\n",
    "\n",
    "if __name__ == \"__main__\":\n",
    "    main()"
   ]
  },
  {
   "cell_type": "code",
   "execution_count": 6,
   "metadata": {},
   "outputs": [],
   "source": [
    "#8 create a Python program that uses multiprocessing.Pool to compute the square of numbers from 1 to 10 in parallel. Measure the time taken to perform this computation using a pool of different sizes (e.g., 2, 4, 8 processes)\n",
    "\n",
    "#answer:-\n",
    "import multiprocessing\n",
    "import time\n",
    "\n",
    "def square(x):\n",
    "    return x * x\n",
    "\n",
    "def measure_time(pool_size):\n",
    "    numbers = list(range(1, 11))\n",
    "    with multiprocessing.Pool(processes=pool_size) as pool:\n",
    "        start_time = time.time()\n",
    "        results = pool.map(square, numbers)\n",
    "        end_time = time.time()\n",
    "        elapsed_time = end_time - start_time\n",
    "    return results, elapsed_time\n",
    "\n",
    "if __name__ == \"__main__\":\n",
    "    pool_sizes = [2, 4, 8]\n",
    "    for size in pool_sizes:\n",
    "        results, elapsed_time = measure_time(size)\n",
    "        print(f\"Pool size: {size}\")\n",
    "        print(f\"Results: {results}\")\n",
    "        print(f\"Time taken: {elapsed_time:.6f} seconds\\n\")"
   ]
  },
  {
   "cell_type": "code",
   "execution_count": 4,
   "metadata": {},
   "outputs": [
    {
     "data": {
      "text/plain": [
       "120"
      ]
     },
     "execution_count": 4,
     "metadata": {},
     "output_type": "execute_result"
    }
   ],
   "source": [
    "\n",
    "def factorial(n):\n",
    "    if n==0:\n",
    "        return 1\n",
    "    else:\n",
    "        return n * factorial(n-1)\n",
    "    \n",
    "factorial(5)"
   ]
  },
  {
   "cell_type": "code",
   "execution_count": null,
   "metadata": {},
   "outputs": [],
   "source": [
    "echo \"# Ninth_assignment\" >> README.md\n",
    "git init\n",
    "git add README.md\n",
    "git commit -m \"first commit\"\n",
    "git branch -M main\n",
    "git remote add origin https://github.com/Gauravsin522/Ninth_assignment.git\n",
    "git push -u origin main"
   ]
  }
 ],
 "metadata": {
  "kernelspec": {
   "display_name": "Python 3",
   "language": "python",
   "name": "python3"
  },
  "language_info": {
   "codemirror_mode": {
    "name": "ipython",
    "version": 3
   },
   "file_extension": ".py",
   "mimetype": "text/x-python",
   "name": "python",
   "nbconvert_exporter": "python",
   "pygments_lexer": "ipython3",
   "version": "3.12.6"
  }
 },
 "nbformat": 4,
 "nbformat_minor": 2
}
