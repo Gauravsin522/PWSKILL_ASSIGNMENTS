{
 "cells": [
  {
   "cell_type": "markdown",
   "metadata": {},
   "source": [
    "# Feature Engineering\n"
   ]
  },
  {
   "cell_type": "markdown",
   "metadata": {},
   "source": [
    "## Assignment Questions"
   ]
  },
  {
   "cell_type": "code",
   "execution_count": 2,
   "metadata": {},
   "outputs": [],
   "source": [
    "# 1. What is a parameter?\n",
    "\n",
    "# Answer:-A parameter is a characteristic or measure that defines a specific aspect of a population in statistical analysis. \n",
    "# It is used to describe a particular feature of the entire population being studied \n"
   ]
  },
  {
   "cell_type": "code",
   "execution_count": 1,
   "metadata": {},
   "outputs": [],
   "source": [
    "# 2. What is correlation? What does negative correlation mean?\n",
    "\n",
    "# Answer :- Correlation is a statistical measure that describes the extent to which two variables are related to each other.\n",
    "# It indicates how changes in one variable are associated with changes in another variable. \n",
    "# Correlation is typically quantified using a correlation coefficient, which ranges from -1 to +1\n",
    "\n",
    "# Negative correlation specifically refers to a situation where an increase in one variable is associated with a decrease in another variable"
   ]
  },
  {
   "cell_type": "code",
   "execution_count": 2,
   "metadata": {},
   "outputs": [],
   "source": [
    "# Define Machine Learning.\n",
    "# What are the main components in Machine Learning?\n",
    "\n",
    "# Answer:- Machine Learning (ML) is a subfield of artificial intelligence (AI) that focuses on the development of algorithms and models that\n",
    "# enable computers to learn from data and make predictions or decisions without being explicitly programmed\n",
    "\n",
    "# The main components in Machine Learning are:\n",
    "# 1. Data: This is the input that the model will use to learn and make predictions\n",
    "# 2. Model: This is the algorithm or mathematical function that is used to make predictions or\n",
    "\n",
    "# decisions based on the data\n",
    "# 3. Algorithm: This is the set of rules or instructions that the model follows to make predictions or decisions\n",
    "# 4. Training: This is the process of feeding the model with data and adjusting the model\n",
    "\n",
    "# 5. Testing: This is the process of evaluating the model's performance on a separate dataset\n",
    "# 6. Evaluation: This is the process of measuring the model's performance using metrics such as\n",
    "\n",
    "# accuracy, precision, recall, F1-score, etc.\n",
    "# 7. Deployment: This is the process of putting the model into production and making it availabl e for use in real-world applications\n",
    "# 8. Hyperparameter Tuning: This is the process of adjusting the model's parameters to\n",
    "# improve its performance\n",
    "# 9. Model Selection: This is the process of choosing the best model for a given problem\n",
    "# 10. Feature Engineering: This is the process of selecting and transforming relevant features from the data\n",
    "# 11. Data Preprocessing: This is the process of cleaning, transforming, and preparing the data for use in the model\n",
    "# 12. Model Interpretability: This is the process of understanding how the model makes predictions or\n",
    "# decisions\n"
   ]
  },
  {
   "cell_type": "code",
   "execution_count": 5,
   "metadata": {},
   "outputs": [],
   "source": [
    "# How does loss value help in determining whether the model is good or not?\n",
    "\n",
    "# Answer :- The loss value measures how well the model’s predictions match the actual data.\n",
    "# Lower Loss Value: Indicates better performance, closer match between predictions and actual values.\n",
    "# Higher Loss Value: Indicates poorer performance, significant discrepancy between predictions and actual values.\n",
    "# Model Training: During training, the model adjusts its parameters to minimize the loss value, aiming for better performance.\n",
    "# Model Evaluation: The loss value is evaluated on validation and test datasets to check for overfitting (low loss on training data but high on test data) or underfitting (high loss on both training and test data).\n",
    "# Comparison with Other Models: The loss value can be compared with other models or a predefined threshold to determine the model's effectiveness.\n",
    "# Optimization: Minimizing the loss value through optimization algorithms (like Gradient Descent) helps in finding the best set of parameters for the model.\n",
    "# Monitoring During Training: Monitoring the loss value during training helps in understanding the learning progress and making necessary adjustments.\n",
    "# Evaluation Metric: It serves as a key metric to evaluate the model’s performance and guide further improvements.\n",
    "# Error Analysis: Provides insights into areas where the model is underperforming, guiding improvements and refinements.\n",
    "# By minimizing the loss value, we can improve the model's performance and ensure better predictions, making it a critical component in model evaluation and optimization.\n"
   ]
  },
  {
   "cell_type": "code",
   "execution_count": null,
   "metadata": {},
   "outputs": [],
   "source": [
    "# What are continuous and categorical variables?\n",
    " \n",
    "# Answer:- Continuous Variables: Continuous variables are numeric variables that can take any value within a range. They have an infinite number of possible values,\n",
    "# which can be measured and represented on a continuous scale.\n",
    "# Examples include height, weight, temperature, and time. Continuous variables are typically represented by \n",
    "# real numbers and can be further classified as interval or ratio variables.\n",
    "\n",
    "# Categorical Variables: Categorical variables are non-numeric variables that represent discrete categories or groups. They have a limited number of distinct values or levels,\n",
    "# which are often qualitative in nature\n",
    "# Examples\n",
    "# include gender, color, and nationality. Categorical variables are typically represented by strings or labels.\n"
   ]
  },
  {
   "cell_type": "code",
   "execution_count": 6,
   "metadata": {},
   "outputs": [],
   "source": [
    "# How do we handle categorical variables in Machine Learning? What are the common techniques?\n",
    "\n",
    "# Answer:- Handling Categorical Variables in Machine Learning:\n",
    "# Categorical variables need to be converted into numerical format for machine learning models to process them effectively.\n",
    "# Common Techniques for Handling Categorical Variables:\n",
    "# 1. One-Hot Encoding: This technique involves creating a new binary column for each category\n",
    "# in the categorical variable. The presence of a category is indicated by 1, while the absence is indicated by 0.\n",
    "# 2. Label Encoding: This technique involves assigning a unique integer value to each category in the categorical variable.\n",
    "# 3. Ordinal Encoding: This technique involves assigning integer values to categories based on their order or rank.\n",
    "# 4. Target Encoding: This technique involves encoding categories based on the target variable's mean or other statistics.\n",
    "# 5. Frequency Encoding: This technique involves encoding categories based on their frequency in the dataset.\n",
    "# 6. Binary Encoding: This technique involves converting categories into binary representation using bitwise encoding.\n",
    "# 7. Hashing Encoding: This technique involves converting categories into a fixed-length hash value using hashing functions.\n",
    "# 8. Embedding: This technique involves representing categories as dense vectors in a lower-dimensional space.\n",
    "# 9. Feature Hashing: This technique involves converting categories into a fixed-length vector using hash functions.\n",
    "# 10. Entity Embeddings: This technique involves learning low-dimensional representations for categories using neural networks.\n",
    "# These techniques help in effectively handling categorical variables and improving the performance of machine learning models.\n",
    "# The choice of technique depends on the specific problem, dataset, and model being used.\n",
    "# In general, one-hot encoding and label encoding are the most commonly used techniques for handling categorical variables\n",
    "# in machine learning. However, other techniques like target encoding, frequency encoding, and binary encoding can\n",
    "# also be useful in certain scenarios.\n",
    "# The key is to choose the technique that best suits the problem and dataset, and to experiment with\n",
    "# different approaches to find the most effective solution.\n",
    "# The choice of technique depends on the specific problem, dataset, and model being used.\n",
    "# In general, one-hot encoding and label encoding are the most commonly used techniques for handling categorical variables\n",
    "# in machine learning. However, other techniques like target encoding, frequency encoding, and binary encoding can\n",
    "# also be useful in certain scenarios.\n",
    "# The key is to choose the technique that best suits the problem and dataset, and to experiment with\n",
    "# different approaches to find the most effective solution.\n",
    "# The choice of technique depends on the specific problem, dataset, and model being used."
   ]
  },
  {
   "cell_type": "code",
   "execution_count": null,
   "metadata": {},
   "outputs": [],
   "source": [
    "# What do you mean by training and testing a dataset?\n",
    "\n",
    "# Answer:- Training Dataset: The training dataset is a subset of the original dataset that is used to train the machine learning model.\n",
    "# It consists of input data and corresponding target labels or output values.\n",
    "# The model learns from the training dataset by adjusting its parameters to minimize the loss function and make accurate predictions.\n",
    "# Testing Dataset: The testing dataset is a separate subset of the original dataset that is used to evaluate the performance of the trained model.\n",
    "# It consists of input data without corresponding target labels or output values, and the model makes predictions on\n",
    "# the testing dataset based on the learned parameters.\n",
    "# The testing dataset helps in assessing the model's generalization and performance on unseen data, providing insights into  \n",
    "# its accuracy, precision, recall, F1-score, etc.\n",
    "\n"
   ]
  },
  {
   "cell_type": "code",
   "execution_count": 7,
   "metadata": {},
   "outputs": [],
   "source": [
    "# What is sklearn.preprocessing?\n",
    "\n",
    "# Answer:- sklearn.preprocessing is a module in the scikit-learn library that provides a collection of functions and classes for data preprocessing and feature scaling.\n",
    "# It includes various techniques for handling missing values, encoding categorical variables, scaling numerical features, and transforming data.\n",
    "# The preprocessing module in scikit-learn is widely used in machine learning pipelines to prepare and preprocess data before training models.\n",
    "# Some common functions and classes in sklearn.preprocessing include:\n",
    "# - StandardScaler: scales numerical features to have zero mean and unit variance\n",
    "# - MinMaxScaler: scales numerical features to a specified range (e.g., [0, 1])\n",
    "# - RobustScaler: scales numerical features using robust statistics to handle outliers  \n",
    "# - LabelEncoder: encodes categorical variables as numerical values\n",
    "# - OneHotEncoder: encodes categorical variables as binary vectors\n",
    "# - Imputer: handles missing values by imputing them with specified strategies\n",
    "# - PolynomialFeatures: generates polynomial features from numerical features\n",
    "# - FunctionTransformer: applies custom functions to transform data\n",
    "# - PowerTransformer: applies power transformations to numerical features\n",
    "# - QuantileTransformer: applies quantile transformations to numerical features\n",
    "# - KBinsDiscretizer: discretizes numerical features into bins\n",
    "# - OrdinalEncoder: encodes categorical variables as ordinal integers\n",
    "# - PolynomialFeatures: generates polynomial features from numerical features\n",
    "# - ColumnTransformer: applies different transformations to different columns in a dataset\n",
    "# - FunctionTransformer: applies custom functions to transform data\n",
    "# - And many more...\n",
    "\n"
   ]
  },
  {
   "cell_type": "code",
   "execution_count": 8,
   "metadata": {},
   "outputs": [],
   "source": [
    "# What is a Test set?\n",
    "\n",
    "# Answer:- A test set is a subset of the original dataset that is used to evaluate the performance of a trained machine learning model.\n",
    "# It consists of input data without corresponding target labels or output values, and the model makes predictions on the test set based on the learned parameters.\n",
    "# The test set is used to assess the model's ability to generalize to unseen data and to estimat\n",
    "# its performance on new, unseen examples.\n",
    "# The test set is typically kept separate from the training set and validation set to ensure an unbiased evaluation of the model.\n",
    "# The performance metrics calculated on the test set provide insights into the model's accuracy, precision, recall, F1-score, etc., on unseen data.\n",
    "# It is important to use a test set that is representative of the real-world data distribution to obtain reliable performance estimates.\n",
    "# The test set is a critical component in the machine learning workflow and helps in evaluating the model's effectiveness before deployment in real-world applications.\n",
    "# The test set is used to evaluate the model's performance on unseen data, and it is typically\n",
    "# kept separate from the training and validation sets to ensure an unbiased evaluation.\n",
    "# The test set is used to assess the model's ability to generalize to new examples and to estimate its performance on unseen data.\n",
    "# The performance metrics calculated on the test set provide insights into the model's accuracy, precision, recall, F1-score, etc., on unseen data.\n",
    "# It is important to use a test set that is representative of the real-world data distribution to obtain reliable performance estimates.\n",
    "# The test set is a critical component in the machine learning workflow and helps in evaluating the model's effectiveness before deployment in real-world applications.\n",
    "# The test set is used to evaluate the model's performance on unseen data, and it is typically\n",
    "# kept separate from the training and validation sets to ensure an unbiased evaluation."
   ]
  },
  {
   "cell_type": "code",
   "execution_count": 9,
   "metadata": {},
   "outputs": [],
   "source": [
    "# How do we split data for model fitting (training and testing) in Python?How do you approach a Machine Learning problem?\n",
    "\n",
    "# Answer:- Splitting Data for Model Fitting in Python:\n",
    "# In Python, we can split data for model fitting using the train_test_split function from the scikit-learn library.\n",
    "# The train_test_split function randomly splits the dataset into training and testing sets based on a specified test size or train size.\n",
    "# It shuffles the data before splitting to ensure a random distribution of samples in the training and testing sets.\n",
    "# Here's an example of how to use the train_test_split function:\n",
    "# from sklearn.model_selection import train_test_split\n",
    "# X_train, X_test, y_train, y_test = train_test_split(X, y,\n",
    "# test_size=0.2, random_state=42)\n",
    "# Approach to a Machine Learning Problem:\n",
    "# 1. Problem Formulation: Define the problem and identify the key objectives.\n",
    "# 2. Data Collection: Gather relevant data that can be used to solve the problem.\n",
    "# 3. Data Preprocessing: Clean, transform, and preprocess the data to prepare it for\n",
    "# model training.\n",
    "# 4. Feature Engineering: Select, extract, or create relevant features from the data to\n",
    "# improve model performance.\n",
    "# 5. Model Selection: Choose the appropriate model or algorithm based on the problem\n",
    "# requirements and data characteristics.\n",
    "# 6. Model Training: Train the selected model on the training dataset to learn patterns\n",
    "# and make predictions.\n",
    "# 7. Model Evaluation: Evaluate the model's performance on the testing dataset using\n",
    "# appropriate metrics and techniques.\n",
    "# 8. Hyperparameter Tuning: Optimize the model's hyperparameters to improve its\n",
    "# performance.\n",
    "# 9. Model Deployment: Deploy the trained model in real-world applications to make\n",
    "# predictions or decisions.\n",
    "# 10. Monitoring and Maintenance: Monitor the model's performance over time and\n",
    "# update it as needed to ensure continued effectiveness."
   ]
  },
  {
   "cell_type": "code",
   "execution_count": 1,
   "metadata": {},
   "outputs": [],
   "source": [
    "# Why do we have to perform EDA before fitting a model to the data?\n",
    "\n",
    "# Answer:- Exploratory Data Analysis (EDA) is a critical step in the machine learning workflow that involves analyzing and visualizing the data to gain insights,\n",
    "# identify patterns, and understand the relationships between variables.\n",
    "# EDA helps in understanding the data distribution, detecting outliers, handling missing values, and selecting relevant features for model training.\n",
    "# Performing EDA before fitting a model to the data is important for the following reasons:\n",
    "# 1. Data Understanding: EDA helps in understanding the data, its structure, and the relationships between variables, which is essential for building effective models.\n",
    "# 2. Feature Selection: EDA can help in selecting the most relevant features for model training\n",
    "# and improving the model's performance.\n",
    "# 3. Data Cleaning: EDA helps in identifying and handling missing values, outliers, and other data quality issues that can affect model performance.\n",
    "# 4. Model Assumptions: EDA helps in validating the assumptions of the model and ensuring that the data meets the requirements of the model.\n",
    "# 5. Model Interpretability: EDA can help in understanding the relationships between variables and th\n",
    "# e factors that influence the model's predictions, making the model more interpretable.\n",
    "# In summary, performing EDA before fitting a model to the data is essential for building effective models, improving model performance, and \n",
    "# ensuring model interpretability.\n"
   ]
  },
  {
   "cell_type": "code",
   "execution_count": 2,
   "metadata": {},
   "outputs": [],
   "source": [
    "# What is correlation?\n",
    "\n",
    "# Answer:- Correlation is a statistical measure that describes the extent to which two variables are related to each other.\n",
    "# It indicates how changes in one variable are associated with changes in another variable. \n",
    "# Correlation is typically quantified using a correlation coefficient, which ranges from -1 to +1"
   ]
  },
  {
   "cell_type": "code",
   "execution_count": null,
   "metadata": {},
   "outputs": [],
   "source": [
    "# What does negative correlation mean?\n",
    "\n",
    "# Answer:- Negative correlation specifically refers to a situation where an increase in one variable is associated with a decrease in another variable.\n",
    "# The correlation coefficient for a negative correlation is less than 0 and can range from -1 to 0.\n",
    "# A correlation coefficient of -1 indicates a perfect negative correlation, meaning that as one variable increases, the other variable decreases in a perfectly linear manner.\n",
    "# A correlation coefficient closer to 0 indicates a weaker negative correlation, meaning that the relationship between the variables is less pronounced."
   ]
  },
  {
   "cell_type": "code",
   "execution_count": 4,
   "metadata": {},
   "outputs": [
    {
     "name": "stdout",
     "output_type": "stream",
     "text": [
      "           Variable1  Variable2  Variable3\n",
      "Variable1        1.0        1.0        1.0\n",
      "Variable2        1.0        1.0        1.0\n",
      "Variable3        1.0        1.0        1.0\n"
     ]
    },
    {
     "data": {
      "image/png": "[encoded data removed]",
      "text/plain": [
       "<Figure size 800x600 with 2 Axes>"
      ]
     },
     "metadata": {},
     "output_type": "display_data"
    }
   ],
   "source": [
    "# How can you find correlation between variables in Python?\n",
    "\n",
    "# Answer:- Finding the correlation between variables in Python is straightforward, thanks to libraries\n",
    "# like pandas and numpy. Correlation measures the strength and direction of the relationship between two variables.\n",
    "\n",
    "import pandas as pd\n",
    "import numpy as np\n",
    "\n",
    "# Sample data\n",
    "data = {\n",
    "    'Variable1': [10, 20, 30, 40, 50],\n",
    "    'Variable2': [12, 22, 32, 42, 52],\n",
    "    'Variable3': [5, 15, 25, 35, 45]\n",
    "}\n",
    "df = pd.DataFrame(data)\n",
    "\n",
    "correlation_matrix = df.corr()\n",
    "print(correlation_matrix)\n",
    "\n",
    "import seaborn as sns\n",
    "import matplotlib.pyplot as plt\n",
    "\n",
    "plt.figure(figsize=(8, 6))\n",
    "sns.heatmap(correlation_matrix, annot=True, cmap='coolwarm')\n",
    "plt.title('Correlation Matrix')\n",
    "plt.show()\n"
   ]
  },
  {
   "cell_type": "code",
   "execution_count": 5,
   "metadata": {},
   "outputs": [],
   "source": [
    "# What is causation? Explain difference between correlation and causation with an example.\n",
    "\n",
    "# Answer:- Causation refers to a situation where one event (the cause) directly leads to another event (the effect).\n",
    "# In other words, causation implies a cause-and-effect relationship. When one variable changes, it directly causes the other variable to change.\n",
    "\n",
    "# Correlation: A statistical measure that describes the extent to which two variables are related to each other.\n",
    "# Example: If we observe that ice cream sales and drowning incidents both increase in the summer, we might find a high correlation between them. However, this does not mean that ice cream sales cause drowning incidents.\n",
    "\n",
    "# Causation: A relationship where one event (the cause) directly affects another event (the effect).\n",
    "# Example: If we find that increasing the dosage of a particular medication reduces the symptoms of a disease, we can infer causation if the medication is directly causing the reduction in symptoms."
   ]
  },
  {
   "cell_type": "code",
   "execution_count": 6,
   "metadata": {},
   "outputs": [
    {
     "name": "stdout",
     "output_type": "stream",
     "text": [
      "[0.95 1.9 ]\n"
     ]
    }
   ],
   "source": [
    "# What is an Optimizer? What are different types of optimizers? Explain each with an example.\n",
    "\n",
    "# Answer:- An optimizer is an algorithm or method used to adjust the parameters of a machine learning model to minimize the loss function and improve the model's performance.\n",
    "# Optimizers play a crucial role in training deep learning models by updating the model's weights and biases based on the gradients of the loss function.\n",
    "\n",
    "\n",
    "\n",
    "# Different Types of Optimizers:\n",
    "# 1. Gradient Descent: A first-order optimization algorithm that updates the model parameters in the opposite direction of the gradient of the loss function.\n",
    "\n",
    "# Example:-\n",
    "import numpy as np\n",
    "\n",
    "# Simple gradient descent example\n",
    "def gradient_descent(w, grad, learning_rate):\n",
    "    return w - learning_rate * grad\n",
    "\n",
    "w = np.array([1.0, 2.0])\n",
    "grad = np.array([0.5, 1.0])\n",
    "learning_rate = 0.1\n",
    "new_w = gradient_descent(w, grad, learning_rate)\n",
    "print(new_w) \n",
    "\n",
    "# 2. Stochastic Gradient Descent (SGD): An optimization algorithm that updates the model parameters using a random subset of the training data.\n",
    "\n",
    "#Example :- \n",
    "from tensorflow.keras.optimizers import SGD\n",
    "\n",
    "optimizer = SGD(learning_rate=0.01)\n",
    "\n",
    "# 3. Mini-Batch Gradient Descent: A variation of SGD that updates the model parameters using small batches of training data.\n",
    "\n",
    "\n",
    "# 4. Momentum: An optimization algorithm that adds a momentum term to the gradient update to accelerate convergence and dampen oscillations.\n",
    "#Example:- \n",
    "from tensorflow.keras.optimizers import SGD\n",
    "\n",
    "optimizer = SGD(learning_rate=0.01, momentum=0.9)\n",
    "# 5. Adagrad: An adaptive learning rate optimization algorithm that scales the learning rate based on the historical gradients of the parameters.\n",
    "\n",
    "# Exapmle:-\n",
    "from tensorflow.keras.optimizers import Adagrad\n",
    "\n",
    "optimizer = Adagrad(learning_rate=0.01)\n",
    "\n",
    "# 6. RMSprop: A variant of Adagrad that uses a moving average of squared gradients to adjust the learning rate.\n",
    "\n",
    "# Example:-\n",
    "\n",
    "from tensorflow.keras.optimizers import RMSprop\n",
    "\n",
    "optimizer = RMSprop(learning_rate=0.001)\n",
    "\n",
    "# 7. Adam: An adaptive moment estimation optimization algorithm that combines the benefits of momentum and RMSprop.\n",
    "\n",
    "# Example:-\n",
    "from tensorflow.keras.optimizers import Adam\n",
    "optimizer = Adam(learning_rate=0.001)\n",
    "# 8. AdaMax: A variant of Adam that uses the infinity norm to compute the update.\n",
    "# 9. Nadam: A variant of Adam that incorporates Nesterov momentum.\n",
    "# 10. Adadelta: An extension of Adagrad that uses a moving average of gradients and updates the learning rate dynamically\n",
    "\n"
   ]
  },
  {
   "cell_type": "code",
   "execution_count": 7,
   "metadata": {},
   "outputs": [],
   "source": [
    "# What is sklearn.linear_model ?\n",
    "\n",
    "# Answer:- sklearn.linear_model is a module in the scikit-learn library that provides a collection of functions and classes for linear regression and related models.\n",
    "# It includes various linear models for regression, classification, and other tasks, along with tools for regularization and feature selection.\n",
    "# The linear_model module in scikit-learn is widely used in machine learning for building linear models and analyzing relationships between variables."
   ]
  },
  {
   "cell_type": "code",
   "execution_count": 8,
   "metadata": {},
   "outputs": [],
   "source": [
    "# What does model.fit() do? What arguments must be given?\n",
    "\n",
    "# Answer:- The model.fit() method is used to train a machine learning model on a training dataset by adjusting\n",
    "# its parameters to minimize the loss function and make accurate predictions.\n",
    "# The fit() method takes two main arguments:\n",
    "# 1. X: The input features or independent variables used to train the model.\n",
    "# 2. y: The target labels or dependent variable used to train the model.\n"
   ]
  },
  {
   "cell_type": "code",
   "execution_count": null,
   "metadata": {},
   "outputs": [],
   "source": [
    "# What does model.predict() do? What arguments must be given?\n",
    "\n",
    "# Answer:- The model.predict() method is used to make predictions on new data using a trained machine learning model.\n",
    "# The predict() method takes one main argument:\n",
    "# X: The input features or independent variables for which predictions are to be made.\n",
    "# The predict() method returns the predicted output values based on the learned parameters of the model."
   ]
  },
  {
   "cell_type": "code",
   "execution_count": 9,
   "metadata": {},
   "outputs": [],
   "source": [
    "# What are continuous and categorical variables?\n",
    "\n",
    "# Answer:- Continuous Variables: Continuous variables are numeric variables that can take any value within a range. They have an infinite number of possible values,\n",
    "# which can be measured and represented on a continuous scale.\n",
    "# Examples include height, weight, temperature, and time. Continuous variables are typically represented by\n",
    "# real numbers and can be further classified as interval or ratio variables.\n",
    "\n",
    "# Categorical Variables: Categorical variables are non-numeric variables that represent discrete categories or groups. They have a limited number of distinct values or levels,\n",
    "# which are often qualitative in nature \n",
    "# Examples  Gender, color ,product type etc\n",
    "\n"
   ]
  },
  {
   "cell_type": "code",
   "execution_count": 10,
   "metadata": {},
   "outputs": [],
   "source": [
    "# What is feature scaling? How does it help in Machine Learning?\n",
    "\n",
    "# Answer:- Feature scaling is a technique used to standardize the range of independent variables or features of data.\n",
    "# It is an essential preprocessing step in machine learning that helps in improving the performance and convergence of models.\n",
    "# Feature scaling involves transforming the values of features into a similar scale to ensure that no single feature dominates the learning process.\n",
    "# Feature scaling helps in machine learning by:\n",
    "# 1. Improving Model Performance: Feature scaling ensures that all features have a similar scale, which can help in improving the performance of machine learning models.\n",
    "# 2. Faster Convergence: Feature scaling can help models converge faster during training by ensuring that the optimization algorithms work more efficiently.\n",
    "# 3. Handling Different Units: Feature scaling makes it easier to compare and interpret the importance of different features, especially when they are measured in different units.\n",
    "# 4. Regularization: Feature scaling can help in regularization techniques by preventing certain features from dominating the model due to differences in scale.\n",
    "# 5. Distance-Based Algorithms: Feature scaling is essential for distance-based algorithms like k-nearest neighbors (KNN) and support vector machines (SVM) that rely on the distance between data points.\n",
    "# 6. Neural Networks: Feature scaling is crucial for neural networks to ensure that the weights and biases are updated properly during training."
   ]
  },
  {
   "cell_type": "code",
   "execution_count": 11,
   "metadata": {},
   "outputs": [],
   "source": [
    " # How do we perform scaling in Python?\n",
    " \n",
    "# Answer:- In Python, we can perform feature scaling using the scikit-learn library, which provides various scaling techniques through the preprocessing module.\n",
    "# Some common scaling techniques in scikit-learn include:\n",
    "# 1. StandardScaler: Scales features to have zero mean and unit variance.\n",
    "# 2. MinMaxScaler: Scales features to a specified range (e.g., [0, 1]).\n",
    "# 3. RobustScaler: Scales features using robust statistics to handle outliers."
   ]
  },
  {
   "cell_type": "code",
   "execution_count": 12,
   "metadata": {},
   "outputs": [],
   "source": [
    "# What is sklearn.preprocessing?\n",
    "\n",
    "# Answer:- sklearn.preprocessing is a module in the scikit-learn library that provides a collection of functions and classes for data preprocessing and feature scaling.\n",
    "# It includes various techniques for handling missing values, encoding categorical variables, scaling numerical features, and transforming data.\n",
    "# The preprocessing module in scikit-learn is widely used in machine learning pipelines to prepare and preprocess data before training models.\n",
    "# Some common functions and classes in sklearn.preprocessing include:\n",
    "# - StandardScaler: scales numerical features to have zero mean and unit variance\n",
    "# - MinMaxScaler: scales numerical features to a specified range (e.g., [0, 1])\n",
    "# - RobustScaler: scales numerical features using robust statistics to handle outliers  \n",
    "# - LabelEncoder: encodes categorical variables as numerical values\n",
    "# - OneHotEncoder: encodes categorical variables as binary vectors\n",
    "# - Imputer: handles missing values by imputing them with specified strategies\n",
    "# - PolynomialFeatures: generates polynomial features from numerical features\n",
    "# - FunctionTransformer: applies custom functions to transform data\n",
    "# - PowerTransformer: applies power transformations to numerical features\n",
    "# - QuantileTransformer: applies quantile transformations to numerical features\n",
    "# - KBinsDiscretizer: discretizes numerical features into bins\n",
    "# - OrdinalEncoder: encodes categorical variables as ordinal integers\n",
    "# - PolynomialFeatures: generates polynomial features from numerical features\n",
    "# - ColumnTransformer: applies different transformations to different columns in a dataset\n",
    "# - FunctionTransformer: applies custom functions to transform data\n",
    "# - And many more...\n",
    "\n"
   ]
  },
  {
   "cell_type": "code",
   "execution_count": null,
   "metadata": {},
   "outputs": [],
   "source": [
    "#How do we split data for model fitting (training and testing) in Python?\n",
    "\n",
    "# Answer:- Splitting Data for Model Fitting in Python:\n",
    "# In Python, we can split data for model fitting using the train_test_split function from the scikit-learn library.\n",
    "# The train_test_split function randomly splits the dataset into training and testing sets based on a specified test size or train size.\n",
    "# It shuffles the data before splitting to ensure a random distribution of samples in the training and testing sets.\n",
    "# Here's an example of how to use the train_test_split function:\n",
    "# from sklearn.model_selection import train_test_split\n",
    "# X_train, X_test, y_train, y_test = train_test_split(X, y,\n",
    "# test_size=0.2, random_state=42)\n",
    "\n"
   ]
  },
  {
   "cell_type": "code",
   "execution_count": null,
   "metadata": {},
   "outputs": [],
   "source": [
    "# Explain data encoding?\n",
    "\n",
    "#Answer:- Data encoding is the process of converting data from one form to another for efficient storage, transmission, or processing.\n",
    "# In the context of machine learning, data encoding is used to convert categorical variables into numerical format for model training.\n",
    "# There are various techniques for encoding data, including:\n",
    "# 1. Label Encoding: Assigning a unique integer value to each category in a categorical variable.\n",
    "# 2. One-Hot Encoding: Creating a new binary column for each category in a categorical variable.\n",
    "# 3. Ordinal Encoding: Assigning integer values to categories based on their order or rank.\n",
    "# 4. Target Encoding: Encoding categories based on the target variable's mean or other statistics.\n",
    "# 5. Frequency Encoding: Encoding categories based on their frequency in the dataset.\n",
    "# 6. Binary Encoding: Converting categories into binary representation using bitwise encoding.\n",
    "# 7. Hashing Encoding: Converting categories into a fixed-length hash value using hashing functions.\n",
    "# 8. Embedding: Representing categories as dense vectors in a lower-dimensional space.\n",
    "# 9. Feature Hashing: Converting categories into a fixed-length vector using hash functions.\n",
    "# 10. Entity Embeddings: Learning low-dimensional representations for categories using neural networks.\n"
   ]
  }
 ],
 "metadata": {
  "kernelspec": {
   "display_name": "Python 3",
   "language": "python",
   "name": "python3"
  },
  "language_info": {
   "codemirror_mode": {
    "name": "ipython",
    "version": 3
   },
   "file_extension": ".py",
   "mimetype": "text/x-python",
   "name": "python",
   "nbconvert_exporter": "python",
   "pygments_lexer": "ipython3",
   "version": "3.13.0"
  }
 },
 "nbformat": 4,
 "nbformat_minor": 2
}
