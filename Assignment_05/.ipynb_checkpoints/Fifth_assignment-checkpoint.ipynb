{
 "cells": [
  {
   "cell_type": "markdown",
   "id": "ecab049e-856f-4aec-a7c4-3efae6c3d1df",
   "metadata": {},
   "source": [
    "# Theoretical Questions:\n"
   ]
  },
  {
   "cell_type": "markdown",
   "id": "ba890581-3f95-4df6-a805-bdfde2eadaa8",
   "metadata": {},
   "source": [
    "## 1. Explain the purpose and advantages of NumPy in scientific computing and data analysis. How does it enhance Python's capabilities for numerical operations?\n",
    "\n",
    " Answer:-The purpose and advantage of NumPy in scientic computing and data analysis because is it offer powerful feature for working and it provide multidimentional array and its perform various mathemataic operation.Since NumPy is writte  in c language c is one of the fastest language.That because its enhance the Python's capabilities for numerical operations."
   ]
  },
  {
   "cell_type": "markdown",
   "id": "43e8fd8a-ab45-492c-83f7-235c8928c1a9",
   "metadata": {},
   "source": [
    "\n",
    "\n",
    "\n",
    "\n",
    "### 2. Compare and contrast np.mean() and np.average() functions in NumPy. When would you use one over the other.\n",
    " Answer :- Mean and average both are used in Numpy to calculate the average of array,but thay have some differences.\n",
    " \n",
    " import numpy as np\n",
    " \n",
    " arr=np.array([1,2,3,4,5])\n",
    " \n",
    " syntax:- Mean=np.mean(arr,axis= None)\n",
    " \n",
    "          Average=np.average(arr,axis=None)\n"
   ]
  },
  {
   "cell_type": "markdown",
   "id": "e476376d-fea5-476d-b41c-88d9533bcbdd",
   "metadata": {},
   "source": [
    "### 3. Describe the methods for reversing a NumPy array along different axes. Provide examples for 1D and 2D arrays.\n",
    "\n",
    "Answer:-Reversing array in NumPy can be dome in several ways.\n",
    "\n",
    "## 1 using(::-1)\n",
    "## 2 using (np.flip(arr))"
   ]
  },
  {
   "cell_type": "code",
   "execution_count": 1,
   "id": "2d53bd2a-ec43-43d3-93d3-b8923de6bf92",
   "metadata": {},
   "outputs": [
    {
     "name": "stdout",
     "output_type": "stream",
     "text": [
      "[5 4 3 2 1]\n",
      "[[5 4 7]\n",
      " [3 2 1]]\n"
     ]
    }
   ],
   "source": [
    "import numpy as np\n",
    " \n",
    "arr=np.array([1, 2, 3, 4, 5])\n",
    "reverse=arr[::-1]\n",
    "arr1=np.array([[1,2,3],[7,4,5]])\n",
    "r=np.flip(arr1)\n",
    "\n",
    "print(reverse)\n",
    "print(r)"
   ]
  },
  {
   "cell_type": "markdown",
   "id": "1fdb305b-89fe-46b3-9fda-90d5099807a8",
   "metadata": {},
   "source": [
    "### 4. How can you determine the data type of elements in a NumPy array? Discuss the importance of data types in memory management and performance\n",
    "\n",
    "Answer :- We can determine the data type in a Numpy array ,we can use dtype arrtibue.Tne data type is cruiel part of memory managment to perform . like memory allocation,performance,data intigrity, etc,.\n",
    "\n"
   ]
  },
  {
   "cell_type": "markdown",
   "id": "2373c28e-43e2-41b9-801c-858274042ee6",
   "metadata": {},
   "source": [
    "### 5. Define ndarrays in NumPy and explain their key features. How do they differ from standard Python lists?\n",
    "\n",
    "Answer:-nd array in NumPy is homogenous mean (same type) and NumPy arrays are designed for high-performance operations on large datasets.\n",
    "their key features are :- arthematic operation , linear algebra,index wise slicing.\n",
    "\n"
   ]
  },
  {
   "cell_type": "markdown",
   "id": "b383577e-4469-4cdb-b568-377665c726be",
   "metadata": {},
   "source": [
    "### 6. Analyze the performance benefits of NumPy arrays over Python lists for large-scale numerical operations.\n",
    "\n",
    "Answer:-NumPy is ideal for handling large amounts of homogeneous (same-type) data, offering significant improvements in speed and memory efficiency. It also provides high-level syntax for a wide range of numerical operations, making it a powerful tool for scientific computing and data processing on the CPU.|\n"
   ]
  },
  {
   "cell_type": "markdown",
   "id": "e76f2a81-6e8d-4f32-b335-ab4d3bbbb298",
   "metadata": {},
   "source": [
    "### 7. Compare vstack() and hstack() functions in NumPy. Provide examples demonstrating their usage and output.\n",
    "\n",
    "Answer:- vstack() is a function in NumPy to stack two array in stack in verticla.And hstack() is a function in a Numpy to stack two array in a Horizontle."
   ]
  },
  {
   "cell_type": "code",
   "execution_count": 2,
   "id": "ee41bd3c-8a3b-4f44-b90c-c85175240088",
   "metadata": {},
   "outputs": [
    {
     "name": "stdout",
     "output_type": "stream",
     "text": [
      "[[1 2 3 4]\n",
      " [6 7 8 9]]\n",
      "[1 2 3 4 6 7 8 9]\n"
     ]
    }
   ],
   "source": [
    "#Example:\n",
    "# vstack()\n",
    "import numpy as np\n",
    "arr1=np.array([1,2,3,4])\n",
    "arr2=np.array([6,7,8,9])\n",
    "\n",
    "verticle=np.vstack((arr1,arr2))\n",
    "print(verticle)\n",
    "# hstack()\n",
    "horizontle=np.hstack((arr1,arr2))\n",
    "print(horizontle)"
   ]
  },
  {
   "cell_type": "markdown",
   "id": "25d664ed-e3d3-42e9-9c17-ad2caed9cab0",
   "metadata": {},
   "source": [
    "### 8. Explain the differences between fliplr() and flipud() methods in NumPy, including their effects on various array dimensions.\n",
    "\n",
    "Answer :- fliplr() is flip the the array in horizontally left to right,affecting the coloums.\n",
    "and flipud()is flip the array in vertically up to down affecting the rows."
   ]
  },
  {
   "cell_type": "markdown",
   "id": "345fe6ec-97cd-4e22-a600-f47ef0734d84",
   "metadata": {},
   "source": [
    "### 9. Discuss the functionality of the array_split() method in NumPy. How does it handle uneven splits?\n",
    "\n",
    "Answer :- array_spit() method in numpy is splip array in multiple sub array.One of the key features of array_split() is its ability to handle cases where the array cannot be evenly divided by the specified number of sections. When the split is uneven, array_split() distributes the remainder across the first few sub-arrays, making the first few sub-arrays slightly larger than the others."
   ]
  },
  {
   "cell_type": "markdown",
   "id": "8ed3fe41-685d-42e6-b7c9-071f13342326",
   "metadata": {},
   "source": [
    "### 10. Explain the concepts of vectorization and broadcasting in NumPy. How do they contribute to efficient array operations?\n",
    "\n",
    "Answer:- Vectorization and Broadcasting is backbone of Numpy array.Vertorization is a ytechnique that allows performing operations on array without using loops.\n",
    "In other hand Broadcasting is allow to handle operation in between  arrays different shapes.\n"
   ]
  },
  {
   "cell_type": "markdown",
   "id": "96f59925-27c6-4d5d-b78f-bb52ae4e2888",
   "metadata": {},
   "source": [
    "# Practical Questions:\n"
   ]
  },
  {
   "cell_type": "code",
   "execution_count": 1,
   "id": "fc2f2183-1083-4528-bca4-84188167614b",
   "metadata": {},
   "outputs": [
    {
     "name": "stdout",
     "output_type": "stream",
     "text": [
      "[[97 60 24]\n",
      " [69 35 19]\n",
      " [54 68  7]]\n"
     ]
    }
   ],
   "source": [
    "# 1. Create a 3x3 NumPy array with random integers between 1 and 100. Then, interchange its rows and columns.\n",
    "\n",
    "# Answer:-\n",
    "\n",
    "import numpy as np\n",
    "import random\n",
    "a=np.random.randint(1,100+1,(3,3))\n",
    "print(a)\n"
   ]
  },
  {
   "cell_type": "code",
   "execution_count": 10,
   "id": "133ba24a-3c04-4e90-838f-c6be2846c4e4",
   "metadata": {},
   "outputs": [],
   "source": [
    "# 2. Generate a 1D NumPy array with 10 elements. Resyhape it into a 2x5 array, then into a 5x2 array.\n",
    "\n",
    "# Answer:-\n",
    "\n",
    "b=np.arange(10)\n",
    "\n",
    "reshape1=b.reshape(2,5)\n",
    "\n",
    "reshape2=b.reshape(5,2)"
   ]
  },
  {
   "cell_type": "code",
   "execution_count": 5,
   "id": "2864b8eb-2de9-4a0d-957d-82d9354123ca",
   "metadata": {},
   "outputs": [
    {
     "name": "stdout",
     "output_type": "stream",
     "text": [
      "[[0.         0.         0.         0.         0.         0.        ]\n",
      " [0.         0.03729969 0.98588307 0.23416734 0.55524163 0.        ]\n",
      " [0.         0.60015428 0.38415854 0.89411486 0.81504676 0.        ]\n",
      " [0.         0.8183241  0.30993423 0.1601785  0.0308745  0.        ]\n",
      " [0.         0.69485176 0.51199442 0.2321546  0.0061699  0.        ]\n",
      " [0.         0.         0.         0.         0.         0.        ]]\n"
     ]
    }
   ],
   "source": [
    "# 3. Create a 4x4 NumPy array with random float values. Add a border of zeros around it, resulting in a 6x6 array.\n",
    "\n",
    "# Answer:-\n",
    "import numpy as np\n",
    "rand=np.random.rand(4,4)\n",
    "zero=np.pad(rand,pad_width=1,mode='constant',constant_values=0)\n",
    "print(zero)"
   ]
  },
  {
   "cell_type": "code",
   "execution_count": 13,
   "id": "c8e1d4a8-a0fe-4acc-adc0-57c55da5b30b",
   "metadata": {},
   "outputs": [
    {
     "name": "stdout",
     "output_type": "stream",
     "text": [
      "[10 15 20 25 30 35 40 45 50 55 60]\n"
     ]
    }
   ],
   "source": [
    "# 4. Using NumPy, create an array of integers from 10 to 60 with a step of 5.\n",
    "\n",
    "# Answer:-\n",
    "\n",
    "arr=np.arange(10,60+1,step=5)\n",
    "print(arr)"
   ]
  },
  {
   "cell_type": "code",
   "execution_count": 20,
   "id": "365ba010-f0e2-4f1e-a5fb-6fe254d75c94",
   "metadata": {},
   "outputs": [
    {
     "name": "stdout",
     "output_type": "stream",
     "text": [
      "['PYTHON' 'NUMPY' 'PANDAS']\n",
      "['python' 'numpy' 'pandas']\n",
      "['Python' 'Numpy' 'Pandas']\n"
     ]
    }
   ],
   "source": [
    "# 5. Create a NumPy array of strings ['python', 'numpy', 'pandas']. Apply different case transformations (uppercase, lowercase, title case, etc.) to each element.\n",
    "\n",
    "arr1=np.array(['python', 'numpy', 'pandas'])\n",
    "\n",
    "uppercase=np.char.upper(arr1)\n",
    "lowercase=np.char.lower(arr1)\n",
    "title_case=np.char.title(arr1)\n",
    "print(uppercase)\n",
    "print(lowercase)\n",
    "print(title_case)\n",
    "\n",
    "\n"
   ]
  },
  {
   "cell_type": "code",
   "execution_count": 28,
   "id": "855d5818-195e-431b-ab30-441e4a7f07bd",
   "metadata": {},
   "outputs": [
    {
     "name": "stdout",
     "output_type": "stream",
     "text": [
      "original: ['python' 'numpy' 'pandas']\n",
      "updated: ['p y t h o n' 'n u m p y' 'p a n d a s']\n"
     ]
    }
   ],
   "source": [
    "# 6. Generate a NumPy array of words. Insert a space between each character of every word in the array.\n",
    "\n",
    "arr2=np.array(['python', 'numpy', 'pandas'])\n",
    "print('original:',arr2)\n",
    "\n",
    "space=np.array([\" \".join(list(x))for x in arr2])\n",
    "print(\"updated:\",space)\n",
    "\n"
   ]
  },
  {
   "cell_type": "code",
   "execution_count": 45,
   "id": "af7f2fe0-368c-4983-8754-aaf08f5e9973",
   "metadata": {},
   "outputs": [
    {
     "name": "stdout",
     "output_type": "stream",
     "text": [
      "addition: [[2. 2. 2.]\n",
      " [2. 2. 2.]\n",
      " [2. 2. 2.]]\n",
      "subtraction: [[0. 0. 0.]\n",
      " [0. 0. 0.]\n",
      " [0. 0. 0.]]\n",
      "multiplication: [[1. 1. 1.]\n",
      " [1. 1. 1.]\n",
      " [1. 1. 1.]]\n",
      "division: [[1. 1. 1.]\n",
      " [1. 1. 1.]\n",
      " [1. 1. 1.]]\n"
     ]
    }
   ],
   "source": [
    "# 7. Create two 2D NumPy arrays and perform element-wise addition, subtraction, multiplication, and division\n",
    "\n",
    "#answer:-\n",
    "\n",
    "arr3=np.ones((3,3))\n",
    "arr4=np.ones((3,3))\n",
    "\n",
    "addition=arr3+arr4\n",
    "subtraction=arr3-arr4\n",
    "multiplication=arr3*arr4\n",
    "division=arr3/arr4\n",
    "\n",
    "print('addition:',addition)\n",
    "print('subtraction:',subtraction)\n",
    "print('multiplication:',multiplication)\n",
    "print(\"division:\",division)\n",
    "\n",
    "\n",
    "\n",
    "\n",
    "\n"
   ]
  },
  {
   "cell_type": "code",
   "execution_count": 57,
   "id": "7029b1fc-a0a7-4568-84c3-d12cc11b85b1",
   "metadata": {},
   "outputs": [
    {
     "name": "stdout",
     "output_type": "stream",
     "text": [
      "\n",
      "original: [[1. 0. 0. 0. 0.]\n",
      " [0. 1. 0. 0. 0.]\n",
      " [0. 0. 1. 0. 0.]\n",
      " [0. 0. 0. 1. 0.]\n",
      " [0. 0. 0. 0. 1.]]\n",
      "\n",
      "diagonal: [1. 1. 1. 1. 1.]\n"
     ]
    }
   ],
   "source": [
    "# 8. Use NumPy to create a 5x5 identity matrix, then extract its diagonal elements.\n",
    "\n",
    "arr1=np.eye(5)\n",
    "print('\\noriginal:',arr1)\n",
    "diag=np.diag(arr1)\n",
    "print('\\ndiagonal:',diag)\n"
   ]
  },
  {
   "cell_type": "code",
   "execution_count": 2,
   "id": "1308de7c-6405-4fa7-9a2d-9b897d2c22e5",
   "metadata": {},
   "outputs": [
    {
     "name": "stdout",
     "output_type": "stream",
     "text": [
      "5x5 Identity Matrix:\n",
      "[[1. 0. 0. 0. 0.]\n",
      " [0. 1. 0. 0. 0.]\n",
      " [0. 0. 1. 0. 0.]\n",
      " [0. 0. 0. 1. 0.]\n",
      " [0. 0. 0. 0. 1.]]\n"
     ]
    }
   ],
   "source": [
    "import numpy as np\n",
    "\n",
    "identity_matrix = np.identity(5)\n",
    "print(\"5x5 Identity Matrix:\")\n",
    "print(identity_matrix)\n"
   ]
  },
  {
   "cell_type": "code",
   "execution_count": 3,
   "id": "73d3deff-6a5a-4802-83c9-1708896275e1",
   "metadata": {},
   "outputs": [
    {
     "name": "stdout",
     "output_type": "stream",
     "text": [
      "\n",
      "original: [973 953 382 832 839 334 401 570  83 772 206 825  71 478  75 761 326 101\n",
      " 350 154 808 790 497 654 909 471 526 242 360 872  66  85  15 519 533 602\n",
      " 596  60 726 459 643 968 856 478 366 930 845 797   6 541 526 477 871 349\n",
      "  94 462 618 252 384 237 853 110 237 214 494 682 994 722 386 237 269  10\n",
      " 264 488  49 501 685 726  24  24 989 480 452 703 684 697  93 667 936 944\n",
      "  26  42 149 708 654 397 502 618 442 249]\n",
      "prime_num: [973, 953, 382, 832, 839, 334, 401, 570, 83, 772, 206, 825, 71, 478, 75, 761, 326, 101, 350, 154, 808, 790, 497, 654, 909, 471, 526, 242, 360, 872, 66, 85, 15, 519, 533, 602, 596, 60, 726, 459, 643, 968, 856, 478, 366, 930, 845, 797, 6, 541, 526, 477, 871, 349, 94, 462, 618, 252, 384, 237, 853, 110, 237, 214, 494, 682, 994, 722, 386, 237, 269, 10, 264, 488, 49, 501, 685, 726, 24, 24, 989, 480, 452, 703, 684, 697, 93, 667, 936, 944, 26, 42, 149, 708, 654, 397, 502, 618, 442, 249]\n"
     ]
    }
   ],
   "source": [
    "# 9. Generate a NumPy array of 100 random integers between 0 and 1000. Find and display all prime numbers in this array.\n",
    "\n",
    "#answer:-\n",
    "\n",
    "arr=np.random.randint(0,1001,size=100)\n",
    "print('\\noriginal:',arr)\n",
    "\n",
    "def is_prime(n):\n",
    "    if n < 2:\n",
    "        return False\n",
    "    for i in range(2,int(n**0.5)+1):\n",
    "        if i % n==0:\n",
    "            return False\n",
    "    return True\n",
    "prime_num=[num for num in arr if is_prime(num)]\n",
    "print('prime_num:',prime_num)\n",
    "\n"
   ]
  },
  {
   "cell_type": "code",
   "execution_count": 18,
   "id": "fe4d889d-c843-4662-b3d7-7054a954f56d",
   "metadata": {},
   "outputs": [
    {
     "name": "stdout",
     "output_type": "stream",
     "text": [
      "daily temperature: [28.7203376  32.87973416 30.0690844  28.62207957 25.59136998 31.14735283\n",
      " 25.93968028 37.29432502 39.09156901 24.58603797 34.79312595 28.22237299\n",
      " 29.20111403 38.13991596 16.77590145 17.17823249 15.50545994 35.81549614\n",
      " 34.45391877 36.75030371 39.46545856 34.97896411 26.53698406 34.51322941\n",
      " 17.95686065 30.99802553 18.58383219 38.61672293]\n",
      "weekly temperature: [[28.7203376  32.87973416 30.0690844  28.62207957 25.59136998 31.14735283\n",
      "  25.93968028]\n",
      " [37.29432502 39.09156901 24.58603797 34.79312595 28.22237299 29.20111403\n",
      "  38.13991596]\n",
      " [16.77590145 17.17823249 15.50545994 35.81549614 34.45391877 36.75030371\n",
      "  39.46545856]\n",
      " [34.97896411 26.53698406 34.51322941 17.95686065 30.99802553 18.58383219\n",
      "  38.61672293]]\n",
      "weekLy average: [28.99566269 33.04692299 27.99211015 28.88351698]\n"
     ]
    }
   ],
   "source": [
    "# 10. Create a NumPy array representing daily temperatures for a month. Calculate and display the weekly averages.\n",
    "\n",
    "#answer:-\n",
    "\n",
    "np.random.seed(0)\n",
    "daily=np.random.uniform(low=15,high=40,size=28)\n",
    "weekly=daily.reshape(4,7)\n",
    "weekly_average=np.mean(weekly,axis=1)\n",
    "\n",
    "print('daily temperature:',daily)\n",
    "print('weekly temperature:',weekly)\n",
    "print('weekLy average:',weekly_average)\n",
    "\n",
    "\n"
   ]
  }
 ],
 "metadata": {
  "kernelspec": {
   "display_name": "Python 3 (ipykernel)",
   "language": "python",
   "name": "python3"
  },
  "language_info": {
   "codemirror_mode": {
    "name": "ipython",
    "version": 3
   },
   "file_extension": ".py",
   "mimetype": "text/x-python",
   "name": "python",
   "nbconvert_exporter": "python",
   "pygments_lexer": "ipython3",
   "version": "3.10.8"
  }
 },
 "nbformat": 4,
 "nbformat_minor": 5
}
