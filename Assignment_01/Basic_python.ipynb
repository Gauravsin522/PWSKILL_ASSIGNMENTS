{
 "cells": [
  {
   "cell_type": "code",
   "execution_count": null,
   "id": "e691a861-8358-49f9-b06f-6d7f55315c46",
   "metadata": {
    "tags": []
   },
   "outputs": [],
   "source": [
    "#Question 1. Explain the key features of Python that make it a popular choice for programming.\n",
    "\n",
    "\n",
    "# Answer : Python is very easy to learn and read. It is a very versatile language, widely used in the data industry. It has lots of libraries and a huge active community\n"
   ]
  },
  {
   "cell_type": "code",
   "execution_count": null,
   "id": "372a1c9e-f4b8-4856-ae16-ecd012a0149c",
   "metadata": {},
   "outputs": [],
   "source": [
    "#Question 2. Describe the role of predefined keywords in Python and provide examples of how they are used in a program\n",
    "\n",
    "\n",
    "#Answer : Predefined keywords are words that hold a special meaning and have specific purpose in python. \n",
    "\n",
    "#example: print , type , for , if , etc.,\n",
    "a = 2\n",
    "b = 2\n",
    "c = a+b\n",
    "print(c)\n"
   ]
  },
  {
   "cell_type": "code",
   "execution_count": 17,
   "id": "d88e9308-1a17-40fb-9c2f-7eb234123fa9",
   "metadata": {},
   "outputs": [
    {
     "name": "stdout",
     "output_type": "stream",
     "text": [
      "[1, 6, 2.3, 'Gaurav', True]\n"
     ]
    },
    {
     "ename": "TypeError",
     "evalue": "'str' object does not support item assignment",
     "output_type": "error",
     "traceback": [
      "\u001b[0;31m---------------------------------------------------------------------------\u001b[0m",
      "\u001b[0;31mTypeError\u001b[0m                                 Traceback (most recent call last)",
      "Cell \u001b[0;32mIn[17], line 17\u001b[0m\n\u001b[1;32m     11\u001b[0m \u001b[38;5;66;03m#(2) Immnutable = objects/container whose state or value can not be changed after they are created arecalled as immutable objects or container, \u001b[39;00m\n\u001b[1;32m     12\u001b[0m \u001b[38;5;66;03m#string is a type of immutable object/ doesn't supports item assignment\u001b[39;00m\n\u001b[1;32m     13\u001b[0m \n\u001b[1;32m     14\u001b[0m \n\u001b[1;32m     15\u001b[0m \u001b[38;5;66;03m#example :\u001b[39;00m\n\u001b[1;32m     16\u001b[0m name\u001b[38;5;241m=\u001b[39m \u001b[38;5;124m\"\u001b[39m\u001b[38;5;124mgaurav\u001b[39m\u001b[38;5;124m\"\u001b[39m\n\u001b[0;32m---> 17\u001b[0m \u001b[43mname\u001b[49m\u001b[43m \u001b[49m\u001b[43m[\u001b[49m\u001b[38;5;241;43m3\u001b[39;49m\u001b[43m]\u001b[49m\u001b[38;5;241m=\u001b[39m\u001b[38;5;241m6\u001b[39m\n\u001b[1;32m     18\u001b[0m \u001b[38;5;28mprint\u001b[39m(name)\n",
      "\u001b[0;31mTypeError\u001b[0m: 'str' object does not support item assignment"
     ]
    }
   ],
   "source": [
    " # Question 3.Compare and contrast mutable and immutable objects in Python with examples.\n",
    "\n",
    "#Answer:(1)Mutable = objects/container whose state or value can be changed after they are created arecalled as mutable\n",
    "#objects or container,list is a type of mutable object/supports item assignment\n",
    "#example :\n",
    "new_list= [1,2,2.3,\"Gaurav\",True]\n",
    "new_list[1]=6\n",
    "print(new_list)\n",
    "\n",
    "\n",
    "#(2) Immnutable = objects/container whose state or value can not be changed after they are created arecalled as immutable objects or container, \n",
    "#string is a type of immutable object/ doesn't supports item assignment\n",
    "\n",
    "\n",
    "#example :\n",
    "name= \"gaurav\"\n",
    "name [3]=6\n",
    "print(name)"
   ]
  },
  {
   "cell_type": "code",
   "execution_count": null,
   "id": "ef7af5bd-280b-48e6-8911-fd50a31e6aa7",
   "metadata": {},
   "outputs": [],
   "source": [
    "#Question 4.Discuss the different types of operators in Python and provide examples of how they are used.\n",
    "\n",
    "# Answer : There are 7 types of operators in python :-\n",
    "'''\n",
    "1. Arithmatic Operators\n",
    "2. Logical Operators\n",
    "3.comperition operators\n",
    "4.Bitwise Operators\n",
    "5.Membership Operators\n",
    "6.Assignment Operators\n",
    "7.Identity Operators\n",
    "'''\n",
    "#example :\n",
    "\n",
    "# 1.Arithmetic Operators:\n",
    "'''\n",
    "Addition: 5 + 2 equals 7\n",
    "Subtraction: 4 - 2 equal 2\n",
    "Multiplication: 2 * 3 equals 6\n",
    "Division: 4 / 2 equals 2\n",
    "Floor Division: 10 // 3 equals 3\n",
    "Modulo: 5 % 2 equals 1\n",
    "Exponentiation: 4 ** 2 equals 16\n",
    "'''\n",
    "#2. Assignment Operators:\n",
    "'''\n",
    "Assignment: x = 5\n",
    "Addition Assignment: a += 1 (equal to a = a + 1)\n",
    "Subtraction Assignment: a -= 3 (equal to a = a - 3)\n",
    "Multiplication Assignment: a *= 4 (equal to a = a * 4)\n",
    "'''\n",
    "#3.Comparison Operators:\n",
    "'''\n",
    "Greater Than: 3 > 5 is False\n",
    "Less Than: 3 < 5 is True\n",
    "Equal To: 3 == 5 is False\n",
    "Not Equal To: 3 != 5 is True\n",
    "'''\n",
    "#4Logical Operators:\n",
    "'''\n",
    "and: Returns True if both statements are true\n",
    "or: Returns True if at least one statement is true\n",
    "not: Reverses the result\n",
    "'''\n",
    "#5. Identity Operators:\n",
    "'''\n",
    "is: Returns True if both variables refer to the same object\n",
    "is not: Returns True if both variables are not the same object\n",
    "'''\n",
    "#6.Membership Operators:\n",
    "'''\n",
    "in: Returns True if a value is present in the object\n",
    "not in: Returns True if a value is not present\n",
    "'''\n",
    "#7.Bitwise Operators:\n",
    "'''\n",
    "& (AND), | (OR), ^ (XOR) , << (Left Shift), >> (Right Shift)\n",
    "'''\n",
    "\n",
    "\n"
   ]
  },
  {
   "cell_type": "code",
   "execution_count": null,
   "id": "bd63959d-4e7a-4724-9840-78528bf9cda7",
   "metadata": {},
   "outputs": [],
   "source": [
    "# Question 5. Explain the concept of type casting in Python with examples\n",
    "\n",
    "#Answer :  Typecasting or typeconversion -- The preocess of changing the data type of a value/object.\n",
    "\n",
    "a = \"2\"\n",
    "\n",
    "type(a)"
   ]
  },
  {
   "cell_type": "code",
   "execution_count": null,
   "id": "154316f4-6a80-4648-a78b-79242d36b9d7",
   "metadata": {},
   "outputs": [],
   "source": [
    "int(a)\n",
    "type(a)"
   ]
  },
  {
   "cell_type": "code",
   "execution_count": 18,
   "id": "d7191782-b6fe-4142-b072-fcc435625d34",
   "metadata": {},
   "outputs": [
    {
     "name": "stdin",
     "output_type": "stream",
     "text": [
      "enter your number 3\n"
     ]
    },
    {
     "name": "stdout",
     "output_type": "stream",
     "text": [
      "odd\n"
     ]
    },
    {
     "name": "stdin",
     "output_type": "stream",
     "text": [
      "enter the color red\n"
     ]
    },
    {
     "name": "stdout",
     "output_type": "stream",
     "text": [
      "stop \n"
     ]
    }
   ],
   "source": [
    "#Question 6. How do conditional statements work in Python? Illustrate with examples.\n",
    "\n",
    "#answer: Conditional statements is helps you to code decisions based on some precondition .\n",
    "\n",
    "# 1. Example\n",
    "# number is even or odd :\n",
    "num = int(input(\"enter your number\"))\n",
    "if num % 2 == 0 :\n",
    "    print(\"even\")\n",
    "    \n",
    "else:\n",
    "    print(\"odd\")\n",
    "\n",
    "# 2. Example\n",
    "# traffic liglight:\n",
    "\n",
    "light=input('enter the color')\n",
    "if light ==\"red\":\n",
    "    print(\"stop \")\n",
    "elif light ==\"Yellow\":\n",
    "    print(\"Wait\")\n",
    "else :\n",
    "    print('Go')\n",
    "\n",
    "\n",
    "\n",
    "\n",
    "\n",
    "\n"
   ]
  },
  {
   "cell_type": "code",
   "execution_count": 10,
   "id": "16c28387-db6d-4ae8-8aec-d31516c3e5c1",
   "metadata": {},
   "outputs": [
    {
     "name": "stdout",
     "output_type": "stream",
     "text": [
      "2 x 1 = 2\n",
      "2 x 2 = 4\n",
      "2 x 3 = 6\n",
      "2 x 4 = 8\n",
      "2 x 5 = 10\n",
      "2 x 6 = 12\n",
      "2 x 7 = 14\n",
      "2 x 8 = 16\n",
      "2 x 9 = 18\n",
      "2 x 10 = 20\n"
     ]
    }
   ],
   "source": [
    "# Question 7. Describe the different types of loops in Python and their use cases with examples.\n",
    "\n",
    "#Answer : There are two types of loop : 1. For loop 2. While loop.\n",
    "\n",
    "# 1. Example :\n",
    "for i in range (1,11):\n",
    "    print(\"2 x\",i, \"=\", 2 * i )\n",
    "    \n",
    "    \n",
    "    \n"
   ]
  },
  {
   "cell_type": "code",
   "execution_count": 16,
   "id": "9ed38641-f883-41df-aa54-84d433cd8f02",
   "metadata": {},
   "outputs": [
    {
     "name": "stdout",
     "output_type": "stream",
     "text": [
      "2 x 10 = 20\n",
      "2 x 10 = 20\n",
      "2 x 10 = 20\n",
      "2 x 10 = 20\n",
      "2 x 10 = 20\n",
      "2 x 10 = 20\n",
      "2 x 10 = 20\n",
      "2 x 10 = 20\n",
      "2 x 10 = 20\n",
      "2 x 10 = 20\n"
     ]
    }
   ],
   "source": [
    "# 2. Example :\n",
    "a = 1\n",
    "while a <= 10:\n",
    "    print(\"2 x\",i, \"=\", 2 * i )\n",
    "    a+=1\n"
   ]
  },
  {
   "cell_type": "code",
   "execution_count": null,
   "id": "e2a1b85b-77c8-475b-93e9-21d6771c2b28",
   "metadata": {},
   "outputs": [],
   "source": []
  },
  {
   "cell_type": "code",
   "execution_count": null,
   "id": "4b997e6c-3a1c-4512-9d67-f3752f0fe2a4",
   "metadata": {},
   "outputs": [],
   "source": []
  }
 ],
 "metadata": {
  "kernelspec": {
   "display_name": "Python 3 (ipykernel)",
   "language": "python",
   "name": "python3"
  },
  "language_info": {
   "codemirror_mode": {
    "name": "ipython",
    "version": 3
   },
   "file_extension": ".py",
   "mimetype": "text/x-python",
   "name": "python",
   "nbconvert_exporter": "python",
   "pygments_lexer": "ipython3",
   "version": "3.10.8"
  }
 },
 "nbformat": 4,
 "nbformat_minor": 5
}
