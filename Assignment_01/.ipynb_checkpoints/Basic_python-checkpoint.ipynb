{
 "cells": [
  {
   "cell_type": "raw",
   "id": "56020fe1-b79f-471b-967e-8ea0e0a7a5c8",
   "metadata": {
    "tags": []
   },
   "source": [
    "# Explain the key features of Python that make it a popular choice for programming.\n",
    "\n",
    "\n",
    "# Answer : Python is very easy to learn and read. It is a very versatile language, widely used in the data industry. It has lots of libraries and a huge active community\n"
   ]
  },
  {
   "cell_type": "raw",
   "id": "2f3dd4b6-0685-4d5c-98bd-60298d6e5154",
   "metadata": {},
   "source": [
    "# Describe the role of predefined keywords in Python and provide examples of how they are used in a program\n",
    "\n",
    "\n",
    "#Answer : Predefined keywords are words that hold a special meaning and have specific purpose in python. \n",
    "\n",
    "#example: print , type , for , if , etc.,\n",
    "a = 2\n",
    "b = 2\n",
    "c = a+b\n",
    "print(c)\n"
   ]
  },
  {
   "cell_type": "raw",
   "id": "23a9f24f-350b-418f-b142-fc7867b8b60e",
   "metadata": {},
   "source": [
    " # Compare and contrast mutable and immutable objects in Python with examples.\n",
    "\n",
    "#Answer:(1)Mutable = objects/container whose state or value can be changed after they are created arecalled as mutable\n",
    "#objects or container,list is a type of mutable object/supports item assignment\n",
    "#example :\n",
    "new_list= [1,2,2.3,\"Gaurav\",True]\n",
    "new_list[1]=6\n",
    "print(new_list)\n",
    "\n",
    "\n",
    "#(2) Immnutable = objects/container whose state or value can not be changed after they are created arecalled as immutable objects or container, \n",
    "#string is a type of immutable object/ doesn't supports item assignment\n",
    "\n",
    "\n",
    "#example :\n",
    "name= \"gaurav\"\n",
    "name [3]=6\n",
    "print(name)"
   ]
  },
  {
   "cell_type": "raw",
   "id": "f00a2861-e60f-4ac7-819f-8a8d9e8acedd",
   "metadata": {},
   "source": [
    "#Discuss the different types of operators in Python and provide examples of how they are used.\n",
    "\n",
    "# Answer : There are 7 types of operators in python :-\n",
    "'''\n",
    "1. Arithmatic Operators\n",
    "2. Logical Operators\n",
    "3.comperition operators\n",
    "4.Bitwise Operators\n",
    "5.Membership Operators\n",
    "6.Assignment Operators\n",
    "7.Identity Operators\n",
    "'''\n",
    "#example :\n",
    "\n",
    "# 1.Arithmetic Operators:\n",
    "'''\n",
    "Addition: 5 + 2 equals 7\n",
    "Subtraction: 4 - 2 equal 2\n",
    "Multiplication: 2 * 3 equals 6\n",
    "Division: 4 / 2 equals 2\n",
    "Floor Division: 10 // 3 equals 3\n",
    "Modulo: 5 % 2 equals 1\n",
    "Exponentiation: 4 ** 2 equals 16\n",
    "'''\n",
    "#2. Assignment Operators:\n",
    "'''\n",
    "Assignment: x = 5\n",
    "Addition Assignment: a += 1 (equal to a = a + 1)\n",
    "Subtraction Assignment: a -= 3 (equal to a = a - 3)\n",
    "Multiplication Assignment: a *= 4 (equal to a = a * 4)\n",
    "'''\n",
    "#3.Comparison Operators:\n",
    "'''\n",
    "Greater Than: 3 > 5 is False\n",
    "Less Than: 3 < 5 is True\n",
    "Equal To: 3 == 5 is False\n",
    "Not Equal To: 3 != 5 is True\n",
    "'''\n",
    "#4Logical Operators:\n",
    "'''\n",
    "and: Returns True if both statements are true\n",
    "or: Returns True if at least one statement is true\n",
    "not: Reverses the result\n",
    "'''\n",
    "#5. Identity Operators:\n",
    "'''\n",
    "is: Returns True if both variables refer to the same object\n",
    "is not: Returns True if both variables are not the same object\n",
    "'''\n",
    "#6.Membership Operators:\n",
    "'''\n",
    "in: Returns True if a value is present in the object\n",
    "not in: Returns True if a value is not present\n",
    "'''\n",
    "#7.Bitwise Operators:\n",
    "'''\n",
    "& (AND), | (OR), ^ (XOR) , << (Left Shift), >> (Right Shift)\n",
    "'''\n",
    "\n",
    "\n"
   ]
  },
  {
   "cell_type": "raw",
   "id": "52765a05-6666-4937-8da2-bced2acb81da",
   "metadata": {},
   "source": [
    "# Explain the concept of type casting in Python with examples\n",
    "\n",
    "#Answer :  Typecasting or typeconversion -- The preocess of changing the data type of a value/object.\n",
    "\n",
    "a = \"2\"\n",
    "\n",
    "type(a)"
   ]
  },
  {
   "cell_type": "raw",
   "id": "7c6b0d37-2d92-4d5d-a461-577324009ea1",
   "metadata": {},
   "source": [
    "int(a)\n",
    "type(a)"
   ]
  },
  {
   "cell_type": "code",
   "execution_count": 18,
   "id": "d7191782-b6fe-4142-b072-fcc435625d34",
   "metadata": {},
   "outputs": [
    {
     "name": "stdin",
     "output_type": "stream",
     "text": [
      "enter your number 3\n"
     ]
    },
    {
     "name": "stdout",
     "output_type": "stream",
     "text": [
      "odd\n"
     ]
    },
    {
     "name": "stdin",
     "output_type": "stream",
     "text": [
      "enter the color red\n"
     ]
    },
    {
     "name": "stdout",
     "output_type": "stream",
     "text": [
      "stop \n"
     ]
    }
   ],
   "source": [
    "# How do conditional statements work in Python? Illustrate with examples.\n",
    "\n",
    "#answer: Conditional statements is helps you to code decisions based on some precondition .\n",
    "\n",
    "# 1. Example\n",
    "# number is even or odd :\n",
    "num = int(input(\"enter your number\"))\n",
    "if num % 2 == 0 :\n",
    "    print(\"even\")\n",
    "    \n",
    "else:\n",
    "    print(\"odd\")\n",
    "\n",
    "# 2. Example\n",
    "# traffic liglight:\n",
    "\n",
    "light=input('enter the color')\n",
    "if light ==\"red\":\n",
    "    print(\"stop \")\n",
    "elif light ==\"Yellow\":\n",
    "    print(\"Wait\")\n",
    "else :\n",
    "    print('Go')\n",
    "\n",
    "\n",
    "\n",
    "\n",
    "\n",
    "\n"
   ]
  },
  {
   "cell_type": "code",
   "execution_count": 16,
   "id": "5329e564-8a01-423b-8d23-a77af3a45f38",
   "metadata": {},
   "outputs": [
    {
     "name": "stdin",
     "output_type": "stream",
     "text": [
      "enter the color red\n"
     ]
    },
    {
     "name": "stdout",
     "output_type": "stream",
     "text": [
      "stop \n"
     ]
    }
   ],
   "source": []
  },
  {
   "cell_type": "code",
   "execution_count": null,
   "id": "16c28387-db6d-4ae8-8aec-d31516c3e5c1",
   "metadata": {},
   "outputs": [],
   "source": []
  }
 ],
 "metadata": {
  "kernelspec": {
   "display_name": "Python 3 (ipykernel)",
   "language": "python",
   "name": "python3"
  },
  "language_info": {
   "codemirror_mode": {
    "name": "ipython",
    "version": 3
   },
   "file_extension": ".py",
   "mimetype": "text/x-python",
   "name": "python",
   "nbconvert_exporter": "python",
   "pygments_lexer": "ipython3",
   "version": "3.10.8"
  }
 },
 "nbformat": 4,
 "nbformat_minor": 5
}
