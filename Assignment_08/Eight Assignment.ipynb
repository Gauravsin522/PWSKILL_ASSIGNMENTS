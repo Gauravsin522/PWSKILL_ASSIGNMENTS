{
 "cells": [
  {
   "cell_type": "markdown",
   "metadata": {},
   "source": [
    "# Data Visualization"
   ]
  },
  {
   "cell_type": "markdown",
   "metadata": {},
   "source": [
    "## MATPLOTLIB ASSIGNMENT: \n",
    "\n",
    "### (Use matplotlib for the visualization of the given questions)"
   ]
  },
  {
   "cell_type": "code",
   "execution_count": null,
   "metadata": {},
   "outputs": [],
   "source": [
    "#1. Create a scatter plot using Matplotlib to visualize the relationship between two arrays, x and y for the given data. \n",
    "\n",
    "import matplotlib.pyplot as plt  # type: ignore\n",
    "x = [1, 2, 3, 4, 5, 6, 7, 8, 9, 10]\n",
    "y = [2, 4, 5, 7, 6, 8, 9, 10, 12, 13]  \n",
    "plt.scatter(x,y)\n",
    "plt.show()"
   ]
  },
  {
   "cell_type": "code",
   "execution_count": null,
   "metadata": {},
   "outputs": [],
   "source": [
    "# 2. Generate a line plot to visualize the trend of values for the given data.   \n",
    "import  numpy as np  # type: ignore\n",
    "data = np.array([3, 7, 9, 15, 22, 29, 35])\n",
    "x=np.arange(0,7)\n",
    "plt.plot(x,data,color='b')\n",
    "plt.title('line plot')\n",
    "plt.xlabel('x')\n",
    "plt.ylabel('y')\n",
    "plt.show()"
   ]
  },
  {
   "cell_type": "code",
   "execution_count": null,
   "metadata": {},
   "outputs": [],
   "source": [
    "#3. Display a bar chart to represent the frequency of each item in the given array categories.    \n",
    "categories = ['A', 'B', 'C', 'D', 'E'] \n",
    "values = [25, 40, 30, 35, 20]\n",
    "#create a figure\n",
    "fig,ax=plt.subplots()\n",
    "#create a figure and axes\n",
    "ax.bar(categories,values)\n",
    "#create a bar chart\n",
    "ax.bar(categories,values)\n",
    "#set a labels\n",
    "ax.set_xlabel('Categories')\n",
    "ax.set_ylabel('Values')"
   ]
  },
  {
   "cell_type": "code",
   "execution_count": null,
   "metadata": {},
   "outputs": [],
   "source": [
    "#4. Create a histogram to visualize the distribution of values in the array data.   \n",
    "data = np.random.normal(0, 1, 1000)\n",
    "plt.hist(data,color='Green',bins=20)\n",
    "plt.show()"
   ]
  },
  {
   "cell_type": "code",
   "execution_count": null,
   "metadata": {},
   "outputs": [],
   "source": [
    "#5. Show a pie chart to represent the percentage distribution of different sections in the array `sections`.  \n",
    "sections = ['Section A', 'Section B', 'Section C', 'Section D'] \n",
    "sizes = [25, 30, 15, 30]\n",
    "plt.pie(sizes,labels=sections,startangle=90,autopct='%1.1f%%')\n",
    "plt.show()"
   ]
  },
  {
   "cell_type": "markdown",
   "metadata": {},
   "source": [
    "# SEABORN ASSIGNMENT:  \n",
    "## (Use Seaborn for the visualization)"
   ]
  },
  {
   "cell_type": "code",
   "execution_count": null,
   "metadata": {},
   "outputs": [],
   "source": [
    "# 1. Create a scatter plot to visualize the relationship between two variables, by generating a synthetic dataset. \n",
    "import seaborn as sns\n",
    "import pandas as pd\n",
    "\n",
    "np.random.seed(0)\n",
    "#creating sample data\n",
    "x=np.random.uniform(0,10,100)\n",
    "y=2+x+5+np.random.normal(0,1,100)\n",
    "\n",
    "#creATING DATA FRAME\n",
    "df=pd.DataFrame({\"x\":x,\"y\":y})\n",
    "\n",
    "# Creating a scatter plot\n",
    "sns.scatterplot(data=df,x=\"x\",y=\"y\")\n",
    "plt.title('scatter plot')\n",
    "plt.xlabel(\"X axis\")\n",
    "plt.ylabel('y axis')\n",
    "plt.show()"
   ]
  },
  {
   "cell_type": "code",
   "execution_count": null,
   "metadata": {},
   "outputs": [],
   "source": [
    "#2. Generate a dataset of random numbers. Visualize the distribution of a numerical variable.  \n",
    "\n",
    "#generate the data set\n",
    "import numpy as np\n",
    "ds=np.random.randn(1000)\n",
    "\n",
    "# visualize the distribution\n",
    "sns.histplot(data=ds,bins=20)\n",
    "plt.title('visualization of the distribution')\n",
    "plt.xlabel('numbers')\n",
    "plt.ylabel('count')\n",
    "plt.show()\n"
   ]
  },
  {
   "cell_type": "code",
   "execution_count": null,
   "metadata": {},
   "outputs": [],
   "source": [
    "# 3. Create a dataset representing categories and their corresponding values. Compare different categories based on numerical values.\n",
    "\n",
    "#Creating the dataset\n",
    "data={\n",
    "    \"Category\": ['A',\"B\",\"C\",\"D\",\"E\"],  \n",
    "    \"Value\": [100, 200, 300, 400, 500]\n",
    "    }\n",
    "df=pd.DataFrame(data)\n",
    "\n",
    "sns.barplot(x='Category',y='Value',data=df)\n",
    "plt.title('Compare different categories based on numerical values')\n",
    "plt.xlabel(\"categorical\")\n",
    "plt.ylabel('Value')\n",
    "plt.show()"
   ]
  },
  {
   "cell_type": "code",
   "execution_count": null,
   "metadata": {},
   "outputs": [],
   "source": [
    "# 4. Generate a dataset with categories and numerical values. Visualize the distribution of a numerical variable across different categories. \n",
    "\n",
    "#Creating the dataset\n",
    "data={\n",
    "    \"Category\": ['A',\"B\",\"C\",\"D\",\"E\"],  \n",
    "    \"Value\": [100, 200, 300, 400, 500]\n",
    "    }\n",
    "df=pd.DataFrame(data)\n",
    "\n",
    "sns.barplot(y='Category',x='Value',data=df)\n",
    "plt.title('Visualize the distribution of a numerical variable across different categories')\n",
    "plt.xlabel(\"Value\")\n",
    "plt.ylabel('Category')\n",
    "plt.show()"
   ]
  },
  {
   "cell_type": "code",
   "execution_count": null,
   "metadata": {},
   "outputs": [],
   "source": [
    "# 5. Generate a synthetic dataset with correlated features. Visualize the correlation matrix of a dataset using a heatmap.\n",
    "\n",
    "#generating synthetic dataset\n",
    "np.random.seed(42)\n",
    "\n",
    "# Generate random data\n",
    "size=1000\n",
    "x1=np.random.normal(1,10,size)\n",
    "x2=85/96+x1+np.random.normal(1,10,size)\n",
    "x3=96*56/89+x2+np.random.normal(1,10,size)\n",
    "\n",
    "#generating dataframe\n",
    "df=pd.DataFrame({\n",
    "    \"x1\":x1,\n",
    "    \"x2\":x2,\n",
    "    \"x3\":x3\n",
    "})\n",
    "#calculate the correlated\n",
    "corr=df.corr()\n",
    "\n",
    "#generating the heatmap\n",
    "sns.heatmap(corr,annot=True,cmap=\"coolwarm\")\n",
    "\n",
    "#Add title and plot\n",
    "plt.title('Heatmap')\n",
    "plt.show()\n"
   ]
  },
  {
   "cell_type": "code",
   "execution_count": null,
   "metadata": {},
   "outputs": [],
   "source": [
    "import numpy as np\n",
    "import pandas as pd\n",
    "import seaborn as sns\n",
    "import matplotlib.pyplot as plt\n",
    "\n",
    "# Set the random seed for reproducibility\n",
    "np.random.seed(42)\n",
    "\n",
    "# Generate random data\n",
    "size = 1000\n",
    "X1 = np.random.normal(0, 1, size)\n",
    "X2 = 0.5 * X1 + np.random.normal(0, 1, size)\n",
    "X3 = 0.2 * X1 + 0.8 * X2 + np.random.normal(0, 1, size)\n",
    "\n",
    "# Create a DataFrame\n",
    "data = pd.DataFrame({'X1': X1, 'X2': X2, 'X3': X3})\n",
    "\n",
    "# Calculate the correlation matrix\n",
    "corr_matrix = data.corr()\n",
    "\n",
    "# Create a heatmap\n",
    "sns.heatmap(corr_matrix, annot=True, cmap='coolwarm')\n",
    "\n",
    "# Add titles and labels\n",
    "plt.title('Correlation Matrix Heatmap')\n",
    "plt.show()\n"
   ]
  },
  {
   "cell_type": "markdown",
   "metadata": {},
   "source": [
    "# PLOTLY ASSIGNMENT:\n",
    "## (Use Plotly for the visualization of the given questions) \n"
   ]
  },
  {
   "cell_type": "code",
   "execution_count": null,
   "metadata": {},
   "outputs": [],
   "source": [
    "# 1. Using the given dataset, to generate a 3D scatter plot to visualize the distribution of data points in a three-dimensional space.\n",
    "np.random.seed(30)\n",
    "data = { \n",
    "    'X': np.random.uniform(-10, 10, 300), \n",
    "    'Y': np.random.uniform(-10, 10, 300), \n",
    "    'Z': np.random.uniform(-10, 10, 300) \n",
    "} \n",
    "df = pd.DataFrame(data)\n",
    "\n",
    "#import plotly\n",
    "import plotly.graph_objects as go\n",
    "import plotly.express as px\n",
    "\n",
    "#Figure\n",
    "fig=go.Figure()\n",
    "fig.add_trace(go.Scatter3d(x=df[\"X\"],y=df[\"Y\"],z=df[\"Z\"],mode='markers',marker=dict(       \n",
    "                           size=5,\n",
    "                           color=df[\"Z\"],\n",
    "                           colorscale=\"Viridis\",\n",
    "                           opacity=0.9)))\n",
    "fig.show()                   \n"
   ]
  },
  {
   "cell_type": "code",
   "execution_count": null,
   "metadata": {},
   "outputs": [],
   "source": [
    "# 2. Using the Student Grades, create a violin plot to display the distribution of scores across different grade categories.\n",
    "import numpy as np\n",
    "import pandas as pd\n",
    "np.random.seed(15)\n",
    "data = { \n",
    "    'Grade': np.random.choice(['A', 'B', 'C', 'D', 'F'], 200), \n",
    "    'Score': np.random.randint(50, 100, 200) \n",
    "    \n",
    "} \n",
    "df1 = pd.DataFrame(data)\n",
    "\n",
    "\n",
    "#import plotly\n",
    "import plotly.graph_objects as go\n",
    "import plotly.express as px\n",
    "\n",
    "#figure\n",
    "fig=px.violin(df1,x=\"Grade\",y=\"Score\",box=True,points='all',title=\"the distribution of scores across different grade categories\")\n",
    "\n",
    "#show \n",
    "fig.show()"
   ]
  },
  {
   "cell_type": "code",
   "execution_count": null,
   "metadata": {},
   "outputs": [],
   "source": [
    "# 3. Using the sales data, generate a heatmap to visualize the variation in sales across different months and days.\n",
    "np.random.seed(20) \n",
    "data = { \n",
    "    'Month': np.random.choice(['Jan', 'Feb', 'Mar', 'Apr', 'May'], 100), \n",
    "    'Day': np.random.choice(range(1, 31), 100), \n",
    "    'Sales': np.random.randint(1000, 5000, 100) \n",
    "} \n",
    "df = pd.DataFrame(data)\n",
    "\n",
    "\n",
    "#figure\n",
    "fig=go.Figure(data=go.Heatmap(x=df['Month'],y=df[\"Day\"],z=df[\"Sales\"],colorscale=\"Viridis\"))\n",
    "\n",
    "\n",
    "#show\n",
    "fig.show()"
   ]
  },
  {
   "cell_type": "code",
   "execution_count": null,
   "metadata": {},
   "outputs": [],
   "source": [
    "# 4. Using the given x and y data, generate a 3D surface plot to visualize the function .\n",
    "x = np.linspace(-5, 5, 100)\n",
    "y = np.linspace(-5, 5, 100) \n",
    "x, y = np.meshgrid(x, y) \n",
    "z = np.sin(np.sqrt(x**2 + y**2))  \n",
    "data = {     'X': x.flatten(), \n",
    "    'Y': y.flatten(), \n",
    "    'Z': z.flatten() \n",
    "} \n",
    "df = pd.DataFrame(data)\n",
    "\n",
    "#figure \n",
    "fig=go.Figure(data=[go.Surface(x=x,y=y,z=z)])\n",
    "fig.update_layout(title=\"3d Surface Plot\",autosize=False,\n",
    "                  width=1000,\n",
    "                  height=1000,\n",
    "                  margin=dict(l=75,r=60,b=75,t=100))\n",
    "\n",
    "\n",
    "fig.show()"
   ]
  },
  {
   "cell_type": "code",
   "execution_count": 33,
   "metadata": {},
   "outputs": [
    {
     "data": {
      "application/vnd.plotly.v1+json": {
       "config": {
        "plotlyServerURL": "https://plot.ly"
       },
       "data": [
        {
         "marker": {
          "size": [
           855,
           978,
           329,
           449,
           716
          ],
          "sizemin": 5,
          "sizemode": "area",
          "sizeref": 1.2225
         },
         "mode": "markers",
         "text": [
          "USA",
          "Canada",
          "UK",
          "Germany",
          "France"
         ],
         "type": "scatter",
         "x": [
          698,
          1338,
          1627,
          1567,
          1330
         ],
         "y": [
          855,
          978,
          329,
          449,
          716
         ]
        }
       ],
       "layout": {
        "showlegend": false,
        "template": {
         "data": {
          "bar": [
           {
            "error_x": {
             "color": "#2a3f5f"
            },
            "error_y": {
             "color": "#2a3f5f"
            },
            "marker": {
             "line": {
              "color": "#E5ECF6",
              "width": 0.5
             },
             "pattern": {
              "fillmode": "overlay",
              "size": 10,
              "solidity": 0.2
             }
            },
            "type": "bar"
           }
          ],
          "barpolar": [
           {
            "marker": {
             "line": {
              "color": "#E5ECF6",
              "width": 0.5
             },
             "pattern": {
              "fillmode": "overlay",
              "size": 10,
              "solidity": 0.2
             }
            },
            "type": "barpolar"
           }
          ],
          "carpet": [
           {
            "aaxis": {
             "endlinecolor": "#2a3f5f",
             "gridcolor": "white",
             "linecolor": "white",
             "minorgridcolor": "white",
             "startlinecolor": "#2a3f5f"
            },
            "baxis": {
             "endlinecolor": "#2a3f5f",
             "gridcolor": "white",
             "linecolor": "white",
             "minorgridcolor": "white",
             "startlinecolor": "#2a3f5f"
            },
            "type": "carpet"
           }
          ],
          "choropleth": [
           {
            "colorbar": {
             "outlinewidth": 0,
             "ticks": ""
            },
            "type": "choropleth"
           }
          ],
          "contour": [
           {
            "colorbar": {
             "outlinewidth": 0,
             "ticks": ""
            },
            "colorscale": [
             [
              0,
              "#0d0887"
             ],
             [
              0.1111111111111111,
              "#46039f"
             ],
             [
              0.2222222222222222,
              "#7201a8"
             ],
             [
              0.3333333333333333,
              "#9c179e"
             ],
             [
              0.4444444444444444,
              "#bd3786"
             ],
             [
              0.5555555555555556,
              "#d8576b"
             ],
             [
              0.6666666666666666,
              "#ed7953"
             ],
             [
              0.7777777777777778,
              "#fb9f3a"
             ],
             [
              0.8888888888888888,
              "#fdca26"
             ],
             [
              1,
              "#f0f921"
             ]
            ],
            "type": "contour"
           }
          ],
          "contourcarpet": [
           {
            "colorbar": {
             "outlinewidth": 0,
             "ticks": ""
            },
            "type": "contourcarpet"
           }
          ],
          "heatmap": [
           {
            "colorbar": {
             "outlinewidth": 0,
             "ticks": ""
            },
            "colorscale": [
             [
              0,
              "#0d0887"
             ],
             [
              0.1111111111111111,
              "#46039f"
             ],
             [
              0.2222222222222222,
              "#7201a8"
             ],
             [
              0.3333333333333333,
              "#9c179e"
             ],
             [
              0.4444444444444444,
              "#bd3786"
             ],
             [
              0.5555555555555556,
              "#d8576b"
             ],
             [
              0.6666666666666666,
              "#ed7953"
             ],
             [
              0.7777777777777778,
              "#fb9f3a"
             ],
             [
              0.8888888888888888,
              "#fdca26"
             ],
             [
              1,
              "#f0f921"
             ]
            ],
            "type": "heatmap"
           }
          ],
          "heatmapgl": [
           {
            "colorbar": {
             "outlinewidth": 0,
             "ticks": ""
            },
            "colorscale": [
             [
              0,
              "#0d0887"
             ],
             [
              0.1111111111111111,
              "#46039f"
             ],
             [
              0.2222222222222222,
              "#7201a8"
             ],
             [
              0.3333333333333333,
              "#9c179e"
             ],
             [
              0.4444444444444444,
              "#bd3786"
             ],
             [
              0.5555555555555556,
              "#d8576b"
             ],
             [
              0.6666666666666666,
              "#ed7953"
             ],
             [
              0.7777777777777778,
              "#fb9f3a"
             ],
             [
              0.8888888888888888,
              "#fdca26"
             ],
             [
              1,
              "#f0f921"
             ]
            ],
            "type": "heatmapgl"
           }
          ],
          "histogram": [
           {
            "marker": {
             "pattern": {
              "fillmode": "overlay",
              "size": 10,
              "solidity": 0.2
             }
            },
            "type": "histogram"
           }
          ],
          "histogram2d": [
           {
            "colorbar": {
             "outlinewidth": 0,
             "ticks": ""
            },
            "colorscale": [
             [
              0,
              "#0d0887"
             ],
             [
              0.1111111111111111,
              "#46039f"
             ],
             [
              0.2222222222222222,
              "#7201a8"
             ],
             [
              0.3333333333333333,
              "#9c179e"
             ],
             [
              0.4444444444444444,
              "#bd3786"
             ],
             [
              0.5555555555555556,
              "#d8576b"
             ],
             [
              0.6666666666666666,
              "#ed7953"
             ],
             [
              0.7777777777777778,
              "#fb9f3a"
             ],
             [
              0.8888888888888888,
              "#fdca26"
             ],
             [
              1,
              "#f0f921"
             ]
            ],
            "type": "histogram2d"
           }
          ],
          "histogram2dcontour": [
           {
            "colorbar": {
             "outlinewidth": 0,
             "ticks": ""
            },
            "colorscale": [
             [
              0,
              "#0d0887"
             ],
             [
              0.1111111111111111,
              "#46039f"
             ],
             [
              0.2222222222222222,
              "#7201a8"
             ],
             [
              0.3333333333333333,
              "#9c179e"
             ],
             [
              0.4444444444444444,
              "#bd3786"
             ],
             [
              0.5555555555555556,
              "#d8576b"
             ],
             [
              0.6666666666666666,
              "#ed7953"
             ],
             [
              0.7777777777777778,
              "#fb9f3a"
             ],
             [
              0.8888888888888888,
              "#fdca26"
             ],
             [
              1,
              "#f0f921"
             ]
            ],
            "type": "histogram2dcontour"
           }
          ],
          "mesh3d": [
           {
            "colorbar": {
             "outlinewidth": 0,
             "ticks": ""
            },
            "type": "mesh3d"
           }
          ],
          "parcoords": [
           {
            "line": {
             "colorbar": {
              "outlinewidth": 0,
              "ticks": ""
             }
            },
            "type": "parcoords"
           }
          ],
          "pie": [
           {
            "automargin": true,
            "type": "pie"
           }
          ],
          "scatter": [
           {
            "fillpattern": {
             "fillmode": "overlay",
             "size": 10,
             "solidity": 0.2
            },
            "type": "scatter"
           }
          ],
          "scatter3d": [
           {
            "line": {
             "colorbar": {
              "outlinewidth": 0,
              "ticks": ""
             }
            },
            "marker": {
             "colorbar": {
              "outlinewidth": 0,
              "ticks": ""
             }
            },
            "type": "scatter3d"
           }
          ],
          "scattercarpet": [
           {
            "marker": {
             "colorbar": {
              "outlinewidth": 0,
              "ticks": ""
             }
            },
            "type": "scattercarpet"
           }
          ],
          "scattergeo": [
           {
            "marker": {
             "colorbar": {
              "outlinewidth": 0,
              "ticks": ""
             }
            },
            "type": "scattergeo"
           }
          ],
          "scattergl": [
           {
            "marker": {
             "colorbar": {
              "outlinewidth": 0,
              "ticks": ""
             }
            },
            "type": "scattergl"
           }
          ],
          "scattermapbox": [
           {
            "marker": {
             "colorbar": {
              "outlinewidth": 0,
              "ticks": ""
             }
            },
            "type": "scattermapbox"
           }
          ],
          "scatterpolar": [
           {
            "marker": {
             "colorbar": {
              "outlinewidth": 0,
              "ticks": ""
             }
            },
            "type": "scatterpolar"
           }
          ],
          "scatterpolargl": [
           {
            "marker": {
             "colorbar": {
              "outlinewidth": 0,
              "ticks": ""
             }
            },
            "type": "scatterpolargl"
           }
          ],
          "scatterternary": [
           {
            "marker": {
             "colorbar": {
              "outlinewidth": 0,
              "ticks": ""
             }
            },
            "type": "scatterternary"
           }
          ],
          "surface": [
           {
            "colorbar": {
             "outlinewidth": 0,
             "ticks": ""
            },
            "colorscale": [
             [
              0,
              "#0d0887"
             ],
             [
              0.1111111111111111,
              "#46039f"
             ],
             [
              0.2222222222222222,
              "#7201a8"
             ],
             [
              0.3333333333333333,
              "#9c179e"
             ],
             [
              0.4444444444444444,
              "#bd3786"
             ],
             [
              0.5555555555555556,
              "#d8576b"
             ],
             [
              0.6666666666666666,
              "#ed7953"
             ],
             [
              0.7777777777777778,
              "#fb9f3a"
             ],
             [
              0.8888888888888888,
              "#fdca26"
             ],
             [
              1,
              "#f0f921"
             ]
            ],
            "type": "surface"
           }
          ],
          "table": [
           {
            "cells": {
             "fill": {
              "color": "#EBF0F8"
             },
             "line": {
              "color": "white"
             }
            },
            "header": {
             "fill": {
              "color": "#C8D4E3"
             },
             "line": {
              "color": "white"
             }
            },
            "type": "table"
           }
          ]
         },
         "layout": {
          "annotationdefaults": {
           "arrowcolor": "#2a3f5f",
           "arrowhead": 0,
           "arrowwidth": 1
          },
          "autotypenumbers": "strict",
          "coloraxis": {
           "colorbar": {
            "outlinewidth": 0,
            "ticks": ""
           }
          },
          "colorscale": {
           "diverging": [
            [
             0,
             "#8e0152"
            ],
            [
             0.1,
             "#c51b7d"
            ],
            [
             0.2,
             "#de77ae"
            ],
            [
             0.3,
             "#f1b6da"
            ],
            [
             0.4,
             "#fde0ef"
            ],
            [
             0.5,
             "#f7f7f7"
            ],
            [
             0.6,
             "#e6f5d0"
            ],
            [
             0.7,
             "#b8e186"
            ],
            [
             0.8,
             "#7fbc41"
            ],
            [
             0.9,
             "#4d9221"
            ],
            [
             1,
             "#276419"
            ]
           ],
           "sequential": [
            [
             0,
             "#0d0887"
            ],
            [
             0.1111111111111111,
             "#46039f"
            ],
            [
             0.2222222222222222,
             "#7201a8"
            ],
            [
             0.3333333333333333,
             "#9c179e"
            ],
            [
             0.4444444444444444,
             "#bd3786"
            ],
            [
             0.5555555555555556,
             "#d8576b"
            ],
            [
             0.6666666666666666,
             "#ed7953"
            ],
            [
             0.7777777777777778,
             "#fb9f3a"
            ],
            [
             0.8888888888888888,
             "#fdca26"
            ],
            [
             1,
             "#f0f921"
            ]
           ],
           "sequentialminus": [
            [
             0,
             "#0d0887"
            ],
            [
             0.1111111111111111,
             "#46039f"
            ],
            [
             0.2222222222222222,
             "#7201a8"
            ],
            [
             0.3333333333333333,
             "#9c179e"
            ],
            [
             0.4444444444444444,
             "#bd3786"
            ],
            [
             0.5555555555555556,
             "#d8576b"
            ],
            [
             0.6666666666666666,
             "#ed7953"
            ],
            [
             0.7777777777777778,
             "#fb9f3a"
            ],
            [
             0.8888888888888888,
             "#fdca26"
            ],
            [
             1,
             "#f0f921"
            ]
           ]
          },
          "colorway": [
           "#636efa",
           "#EF553B",
           "#00cc96",
           "#ab63fa",
           "#FFA15A",
           "#19d3f3",
           "#FF6692",
           "#B6E880",
           "#FF97FF",
           "#FECB52"
          ],
          "font": {
           "color": "#2a3f5f"
          },
          "geo": {
           "bgcolor": "white",
           "lakecolor": "white",
           "landcolor": "#E5ECF6",
           "showlakes": true,
           "showland": true,
           "subunitcolor": "white"
          },
          "hoverlabel": {
           "align": "left"
          },
          "hovermode": "closest",
          "mapbox": {
           "style": "light"
          },
          "paper_bgcolor": "white",
          "plot_bgcolor": "#E5ECF6",
          "polar": {
           "angularaxis": {
            "gridcolor": "white",
            "linecolor": "white",
            "ticks": ""
           },
           "bgcolor": "#E5ECF6",
           "radialaxis": {
            "gridcolor": "white",
            "linecolor": "white",
            "ticks": ""
           }
          },
          "scene": {
           "xaxis": {
            "backgroundcolor": "#E5ECF6",
            "gridcolor": "white",
            "gridwidth": 2,
            "linecolor": "white",
            "showbackground": true,
            "ticks": "",
            "zerolinecolor": "white"
           },
           "yaxis": {
            "backgroundcolor": "#E5ECF6",
            "gridcolor": "white",
            "gridwidth": 2,
            "linecolor": "white",
            "showbackground": true,
            "ticks": "",
            "zerolinecolor": "white"
           },
           "zaxis": {
            "backgroundcolor": "#E5ECF6",
            "gridcolor": "white",
            "gridwidth": 2,
            "linecolor": "white",
            "showbackground": true,
            "ticks": "",
            "zerolinecolor": "white"
           }
          },
          "shapedefaults": {
           "line": {
            "color": "#2a3f5f"
           }
          },
          "ternary": {
           "aaxis": {
            "gridcolor": "white",
            "linecolor": "white",
            "ticks": ""
           },
           "baxis": {
            "gridcolor": "white",
            "linecolor": "white",
            "ticks": ""
           },
           "bgcolor": "#E5ECF6",
           "caxis": {
            "gridcolor": "white",
            "linecolor": "white",
            "ticks": ""
           }
          },
          "title": {
           "x": 0.05
          },
          "xaxis": {
           "automargin": true,
           "gridcolor": "white",
           "linecolor": "white",
           "ticks": "",
           "title": {
            "standoff": 15
           },
           "zerolinecolor": "white",
           "zerolinewidth": 2
          },
          "yaxis": {
           "automargin": true,
           "gridcolor": "white",
           "linecolor": "white",
           "ticks": "",
           "title": {
            "standoff": 15
           },
           "zerolinecolor": "white",
           "zerolinewidth": 2
          }
         }
        },
        "title": {
         "text": "Bubble Chart of Population vs GDP"
        },
        "xaxis": {
         "title": {
          "text": "GDP"
         }
        },
        "yaxis": {
         "title": {
          "text": "Population"
         }
        }
       }
      }
     },
     "metadata": {},
     "output_type": "display_data"
    }
   ],
   "source": [
    "#5. Using the given dataset, create a bubble chart to represent each country's population (y-axis), GDP (x-axis), and bubble size proportional to the population\n",
    "data = { \n",
    "    'Country': ['USA', 'Canada', 'UK', \n",
    "'Germany', 'France'], \n",
    "    'Population': \n",
    "np.random.randint(100, 1000, 5), \n",
    "    'GDP': np.random.randint(500, 2000, \n",
    "5) \n",
    "} \n",
    "df = pd.DataFrame(data)\n",
    "\n",
    "#figure\n",
    "fig=go.Figure(data=[go.Scatter(\n",
    "    x=df['GDP'],\n",
    "    y=df['Population'],\n",
    "    mode='markers',\n",
    "    marker=dict(\n",
    "        size=df['Population'],\n",
    "        sizemode='area',\n",
    "        sizeref=2.*max(df['Population'])/(40.**2),\n",
    "        sizemin=5\n",
    "    ) ,\n",
    "    text=df['Country']   \n",
    "    \n",
    ")])\n",
    "    \n",
    "\n",
    "\n",
    "\n",
    "\n",
    "# Update layout\n",
    "fig.update_layout(\n",
    "    title='Bubble Chart of Population vs GDP',\n",
    "    xaxis_title='GDP',\n",
    "    yaxis_title='Population',\n",
    "    showlegend=False\n",
    ")\n",
    "\n",
    "\n",
    "\n",
    "\n",
    "fig.show()"
   ]
  },
  {
   "cell_type": "markdown",
   "metadata": {},
   "source": [
    "# BOKEH ASSIGNMENT:\n",
    "## (Use Bokeh for the visualization of the given questions) "
   ]
  },
  {
   "cell_type": "code",
   "execution_count": null,
   "metadata": {},
   "outputs": [],
   "source": [
    "#1.Create a Bokeh plot displaying a sine wave. Set x-values from 0 to 10 and y-values as the sine of x.  \n",
    "from bokeh.plotting import figure,show\n",
    "from bokeh.io import output_notebook\n",
    "x=np.linspace(0,10,100)\n",
    "y=np.sin(x)\n",
    "\n",
    "# output\n",
    "output_notebook()\n",
    "# Create a new figure with a title and axis labels\n",
    "p=figure(title='Sine Wave Function',y_axis_label='x', x_axis_label='x')\n",
    "\n",
    "# adding linechart\n",
    "p.line(x,y,legend_label='sine wave',line_width=2,color='blue')\n",
    "\n",
    "# adding grid\n",
    "p.grid.grid_line_color='gray'\n",
    "p.grid.grid_line_alpha=0.5\n",
    "\n",
    "# show\n",
    "show(p)"
   ]
  },
  {
   "cell_type": "code",
   "execution_count": null,
   "metadata": {},
   "outputs": [],
   "source": [
    "#2.Create a Bokeh scatter plot using randomly generated x and y values. Use different sizes and colors for the \n",
    "#markers based on the 'sizes' and 'colors' columns.\n",
    "from bokeh.models import ColumnDataSource  \n",
    "#creating data\n",
    "np.random.seed(42)\n",
    "data={\n",
    "    \"x\":np.random.rand(100)*10,\n",
    "    \"y\":np.random.rand(100)*10,\n",
    "    \"sizes\":np.random.rand(100)*50+10,\n",
    "    'color':np.random.choice(['red','blue','yellow','red', 'orange','green','purple'],100)   \n",
    "}\n",
    "df=pd.DataFrame(data)\n",
    "source=ColumnDataSource(df)\n",
    "\n",
    "#output \n",
    "output_notebook\n",
    "\n",
    "# create figure and axes\n",
    "p=figure(title='Random scatter plot',x_axis_label=\"x\",y_axis_label=\"y\")\n",
    "\n",
    "#create plot\n",
    "p.scatter(\"x\",\"y\",size='sizes',color='color',source=source,alpha=0.6)\n",
    "show(p)\n",
    "\n"
   ]
  },
  {
   "cell_type": "code",
   "execution_count": null,
   "metadata": {},
   "outputs": [],
   "source": [
    "#3. Generate a Bokeh bar chart representing the counts of different fruits using the following dataset.\n",
    "\n",
    "from bokeh.plotting import figure, show\n",
    "from bokeh.io import output_notebook\n",
    "from bokeh.models import ColumnDataSource \n",
    "import numpy as np\n",
    "\n",
    "# Data\n",
    "fruits = ['Apples', 'Oranges', 'Bananas', 'Pears']\n",
    "counts = [20, 25, 30, 35]\n",
    "\n",
    "#output\n",
    "output_notebook()\n",
    "\n",
    "#color for bars\n",
    "color=np.random.choice(['red','blue','yellow','red', 'orange','green','purple'],len(fruits))\n",
    "\n",
    "#colunmdatsource\n",
    "data={\"fruits\":fruits,'counts':counts,'colors':color}\n",
    "source=ColumnDataSource(data)\n",
    "\n",
    "# creating figure and data\n",
    "p=figure(x_range=fruits,title='Count of Fruits',x_axis_label='Fruit',y_axis_label='Counts')\n",
    "#creating bar chart\n",
    "p.vbar(x=\"fruits\",top='counts',width=0.9,source=source,legend_field=\"fruits\",line_color='white',fill_color='colors')\n",
    "\n",
    "#costume legend\n",
    "p.legend.orientation='horizontal'\n",
    "p.legend.location='top_center'\n",
    "\n",
    "#shoe\n",
    "show(p)"
   ]
  },
  {
   "cell_type": "code",
   "execution_count": null,
   "metadata": {},
   "outputs": [],
   "source": [
    "# 4. Create a Bokeh histogram to visualize the distribution of the given data.    \n",
    "from bokeh.plotting import figure, show\n",
    "\n",
    "data_hist = np.random.randn(1000) \n",
    "hist, edges = np.histogram(data_hist,bins=30)\n",
    "\n",
    "#creating a figure and quad glyph\n",
    "p=figure(title='histograms')\n",
    "p.quad(top=hist,bottom=0,left=edges[:-1],right=edges[1:],color='red',fill_color='green',alpha=0.5)\n",
    "\n",
    "#show\n",
    "show(p)\n"
   ]
  },
  {
   "cell_type": "code",
   "execution_count": null,
   "metadata": {},
   "outputs": [],
   "source": [
    "#5. Create a Bokeh heatmap using the provided dataset\n",
    "import numpy as np\n",
    "from bokeh.plotting import figure, show\n",
    "from bokeh.io import output_notebook\n",
    "from bokeh.transform import linear_cmap\n",
    "from bokeh.palettes import Viridis256\n",
    "# ginven data\n",
    "heatmap = np.random.rand(10, 10)\n",
    "x = np.linspace(0, 1, 10) \n",
    "y = np.linspace(0, 1, 10) \n",
    "xx, yy = np.meshgrid(x, y)\n",
    "\n",
    "#outpur\n",
    "output_notebook()\n",
    "\n",
    "#figure and axew\n",
    "p=figure(title='Heat map',x_range=(0,1),y_range=(0,1),x_axis_location=\"above\",tools='',toolbar_location=None)\n",
    "\n",
    "#image\n",
    "p.image(image=[heatmap],x=0,y=0,dw=1,dh=1,palette='Viridis256')\n",
    "\n",
    "show(p)\n"
   ]
  },
  {
   "cell_type": "code",
   "execution_count": null,
   "metadata": {},
   "outputs": [],
   "source": []
  },
  {
   "cell_type": "code",
   "execution_count": null,
   "metadata": {},
   "outputs": [],
   "source": []
  },
  {
   "cell_type": "code",
   "execution_count": null,
   "metadata": {},
   "outputs": [],
   "source": []
  },
  {
   "cell_type": "code",
   "execution_count": null,
   "metadata": {},
   "outputs": [],
   "source": []
  },
  {
   "cell_type": "code",
   "execution_count": null,
   "metadata": {},
   "outputs": [],
   "source": []
  },
  {
   "cell_type": "code",
   "execution_count": null,
   "metadata": {},
   "outputs": [],
   "source": []
  },
  {
   "cell_type": "code",
   "execution_count": null,
   "metadata": {},
   "outputs": [],
   "source": []
  }
 ],
 "metadata": {
  "kernelspec": {
   "display_name": ".venv",
   "language": "python",
   "name": "python3"
  },
  "language_info": {
   "codemirror_mode": {
    "name": "ipython",
    "version": 3
   },
   "file_extension": ".py",
   "mimetype": "text/x-python",
   "name": "python",
   "nbconvert_exporter": "python",
   "pygments_lexer": "ipython3",
   "version": "3.12.6"
  }
 },
 "nbformat": 4,
 "nbformat_minor": 2
}
